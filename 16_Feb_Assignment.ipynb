{
 "cells": [
  {
   "cell_type": "markdown",
   "id": "81ed5a9e",
   "metadata": {},
   "source": [
    "Q1. What is a database? Differentiate between SQL and NoSQL databases."
   ]
  },
  {
   "cell_type": "code",
   "execution_count": 1,
   "id": "92fa84c2",
   "metadata": {},
   "outputs": [
    {
     "name": "stdout",
     "output_type": "stream",
     "text": [
      "\n",
      "A database is an organized collection of structured information, or data, typically stored electronically in a computer system. A database is usually controlled by a database management system (DBMS).\n",
      "\n",
      "\n",
      "SQL\n",
      "A database is an organized collection of structured information, or data, typically stored electronically in a computer system. A database is usually controlled by a database management system (DBMS).\n",
      "In almost all situations SQL databases are vertically scalable. This means that you can increase the load on a single server by increasing things like RAM, CPU or SSD.\n",
      "SQL databases are table-based\n",
      "SQL databases follow ACID properties (Atomicity, Consistency, Isolation and Durability)\n",
      "Examples: MySQL, PostgreSQL, Oracle, MS-SQL Server, etc\n",
      "\n",
      "\n",
      "NOSQL\n",
      "NoSQL database are primarily called as non-relational or distributed database\n",
      "NoSQL databases are horizontally scalable. This means that you handle more traffic by sharding, or adding more servers in your NoSQL database.\n",
      "NoSQL databases are either key-value pairs, document-based, graph databases or wide-column stores\n",
      "NoSQL database follows the Brewers CAP theorem (Consistency, Availability and Partition tolerance)\n",
      "Examples: MongoDB, GraphQL, HBase, Neo4j, Cassandra, etc\n",
      "\n"
     ]
    }
   ],
   "source": [
    "print(\"\"\"\n",
    "A database is an organized collection of structured information, or data, typically stored electronically in a computer system. A database is usually controlled by a database management system (DBMS).\n",
    "\n",
    "\n",
    "SQL\n",
    "A database is an organized collection of structured information, or data, typically stored electronically in a computer system. A database is usually controlled by a database management system (DBMS).\n",
    "In almost all situations SQL databases are vertically scalable. This means that you can increase the load on a single server by increasing things like RAM, CPU or SSD.\n",
    "SQL databases are table-based\n",
    "SQL databases follow ACID properties (Atomicity, Consistency, Isolation and Durability)\n",
    "Examples: MySQL, PostgreSQL, Oracle, MS-SQL Server, etc\n",
    "\n",
    "\n",
    "NOSQL\n",
    "NoSQL database are primarily called as non-relational or distributed database\n",
    "NoSQL databases are horizontally scalable. This means that you handle more traffic by sharding, or adding more servers in your NoSQL database.\n",
    "NoSQL databases are either key-value pairs, document-based, graph databases or wide-column stores\n",
    "NoSQL database follows the Brewers CAP theorem (Consistency, Availability and Partition tolerance)\n",
    "Examples: MongoDB, GraphQL, HBase, Neo4j, Cassandra, etc\n",
    "\"\"\")"
   ]
  },
  {
   "cell_type": "markdown",
   "id": "1b98c6af",
   "metadata": {},
   "source": [
    "Q2. What is DDL? Explain why CREATE, DROP, ALTER, and TRUNCATE are used with an example."
   ]
  },
  {
   "cell_type": "code",
   "execution_count": 2,
   "id": "8dfcf45d",
   "metadata": {},
   "outputs": [
    {
     "name": "stdout",
     "output_type": "stream",
     "text": [
      "\n",
      "Data Definition Language (DDL) is used to create and modify the structure of objects in a database using predefined commands and a specific syntax. These database objects include tables, sequences, locations, aliases, schemas and indexes.\n",
      "or\n",
      "Data Definition Language(DDL) is a subset of SQL and a part of DBMS(Database Management System). DDL consist of Commands to commands like CREATE, ALTER, TRUNCATE and DROP. These commands are used to create or modify the tables in SQL.\n",
      "\n",
      "CREATE :\n",
      "This command is used to create a new table in SQL. \n",
      "\n",
      "ALTER :\n",
      "This command is used to add, delete or change columns in the existing table. \n",
      "\n",
      "TRUNCATE :\n",
      "This command is used to remove all rows from the table, but the structure of the table still exists.\n",
      "\n",
      "DROP :\n",
      "This command is used to remove an existing table along with its structure from the Database.\n",
      "\n",
      "\n",
      "For Example:please check next cell\n",
      "\n"
     ]
    }
   ],
   "source": [
    "print(\"\"\"\n",
    "Data Definition Language (DDL) is used to create and modify the structure of objects in a database using predefined commands and a specific syntax. These database objects include tables, sequences, locations, aliases, schemas and indexes.\n",
    "or\n",
    "Data Definition Language(DDL) is a subset of SQL and a part of DBMS(Database Management System). DDL consist of Commands to commands like CREATE, ALTER, TRUNCATE and DROP. These commands are used to create or modify the tables in SQL.\n",
    "\n",
    "CREATE :\n",
    "This command is used to create a new table in SQL. \n",
    "\n",
    "ALTER :\n",
    "This command is used to add, delete or change columns in the existing table. \n",
    "\n",
    "TRUNCATE :\n",
    "This command is used to remove all rows from the table, but the structure of the table still exists.\n",
    "\n",
    "DROP :\n",
    "This command is used to remove an existing table along with its structure from the Database.\n",
    "\n",
    "\n",
    "For Example:please check next cell\n",
    "\"\"\")"
   ]
  },
  {
   "cell_type": "markdown",
   "id": "48ddd757",
   "metadata": {},
   "source": [
    "CREATE TABLE tableName(\n",
    "NAME VARCHAR(30)\n",
    "AGE INT\n",
    "ADD  VARCHAR(500)\n",
    ");"
   ]
  },
  {
   "cell_type": "markdown",
   "id": "d68798d1",
   "metadata": {},
   "source": [
    "ALTER TABLE tableName\n",
    "ADD SGPA number;"
   ]
  },
  {
   "cell_type": "markdown",
   "id": "5310444a",
   "metadata": {},
   "source": [
    "TRUNCATE TABLE tableName;"
   ]
  },
  {
   "cell_type": "markdown",
   "id": "6b69a5c3",
   "metadata": {},
   "source": [
    "DROP TABLE tableName;"
   ]
  },
  {
   "cell_type": "code",
   "execution_count": null,
   "id": "a535d36e",
   "metadata": {},
   "outputs": [],
   "source": []
  },
  {
   "cell_type": "code",
   "execution_count": null,
   "id": "f90e50f4",
   "metadata": {},
   "outputs": [],
   "source": []
  },
  {
   "cell_type": "markdown",
   "id": "f99560d1",
   "metadata": {},
   "source": [
    "Q3. What is DML? Explain INSERT, UPDATE, and DELETE with an example."
   ]
  },
  {
   "cell_type": "code",
   "execution_count": 4,
   "id": "7b6416c1",
   "metadata": {},
   "outputs": [
    {
     "name": "stdout",
     "output_type": "stream",
     "text": [
      "\n",
      "DML:\n",
      "DML is Data Manipulation Language which is used to manipulate data itself. For example: insert, update, delete are instructions in SQL.\n",
      "\n",
      "INSERT Command:\n",
      "\n",
      "To add data to a table the INSERT command is used. The syntax of the INSERT command is given below:\n",
      "\n",
      "INSERT into table-name values (data, data …)\n",
      "\n",
      "\n",
      "Update Command:\n",
      "\n",
      "To update a table or row or column in the table we use the update command. The syntax of update command is given below:\n",
      "\n",
      "Update table-name set column-name = value where condition;\n",
      "\n",
      "\n",
      "\n",
      "\n",
      "Delete Command\n",
      "\n",
      "To delete a table row or some data from a table in the database the delete command is used. The syntax of delete command is as follows:\n",
      "\n",
      "DELETE from table-name;\n",
      "\n"
     ]
    }
   ],
   "source": [
    "print(\"\"\"\n",
    "DML:\n",
    "DML is Data Manipulation Language which is used to manipulate data itself. For example: insert, update, delete are instructions in SQL.\n",
    "\n",
    "INSERT Command:\n",
    "\n",
    "To add data to a table the INSERT command is used. The syntax of the INSERT command is given below:\n",
    "\n",
    "INSERT into table-name values (data, data …)\n",
    "\n",
    "\n",
    "Update Command:\n",
    "\n",
    "To update a table or row or column in the table we use the update command. The syntax of update command is given below:\n",
    "\n",
    "Update table-name set column-name = value where condition;\n",
    "\n",
    "\n",
    "\n",
    "\n",
    "Delete Command\n",
    "\n",
    "To delete a table row or some data from a table in the database the delete command is used. The syntax of delete command is as follows:\n",
    "\n",
    "DELETE from table-name;\n",
    "\"\"\")"
   ]
  },
  {
   "cell_type": "markdown",
   "id": "3f4d58ac",
   "metadata": {},
   "source": [
    "INSERT into tabelName values('abc',18,'UP INDIA');"
   ]
  },
  {
   "cell_type": "markdown",
   "id": "80979c55",
   "metadata": {},
   "source": [
    "UPDATE tableName set NAME ='xyz' where AGE=18;"
   ]
  },
  {
   "cell_type": "markdown",
   "id": "8ac06693",
   "metadata": {},
   "source": [
    "DELETE from tableName where AGE=18;"
   ]
  },
  {
   "cell_type": "code",
   "execution_count": null,
   "id": "3b3fdf3b",
   "metadata": {},
   "outputs": [],
   "source": []
  },
  {
   "cell_type": "markdown",
   "id": "0c9b3fea",
   "metadata": {},
   "source": [
    "Q4. What is DQL? Explain SELECT with an example."
   ]
  },
  {
   "cell_type": "code",
   "execution_count": 5,
   "id": "1a37fb27",
   "metadata": {},
   "outputs": [
    {
     "name": "stdout",
     "output_type": "stream",
     "text": [
      "\n",
      "DQL statements are used for performing queries on the data within schema objects. The purpose of the DQL Command is to get some schema relation based on the query passed to it\n",
      "\n",
      "An SQL SELECT statement retrieves records from a database table \n",
      "\n",
      "SELECT column1, column2 FROM table1, table2 WHERE column2='value';\n",
      "\n"
     ]
    }
   ],
   "source": [
    "print(\"\"\"\n",
    "DQL statements are used for performing queries on the data within schema objects. The purpose of the DQL Command is to get some schema relation based on the query passed to it\n",
    "\n",
    "An SQL SELECT statement retrieves records from a database table \n",
    "\n",
    "SELECT column1, column2 FROM table1, table2 WHERE column2='value';\n",
    "\"\"\")"
   ]
  },
  {
   "cell_type": "markdown",
   "id": "fd9f29bd",
   "metadata": {},
   "source": [
    " SELECT * FROM tableName;"
   ]
  },
  {
   "cell_type": "markdown",
   "id": "047cc23c",
   "metadata": {},
   "source": [
    "SELECT  NAME FROM tableName;"
   ]
  },
  {
   "cell_type": "code",
   "execution_count": null,
   "id": "70ebb25f",
   "metadata": {},
   "outputs": [],
   "source": []
  },
  {
   "cell_type": "markdown",
   "id": "7107c408",
   "metadata": {},
   "source": [
    "Q5. Explain Primary Key and Foreign Key."
   ]
  },
  {
   "cell_type": "code",
   "execution_count": 8,
   "id": "08de73aa",
   "metadata": {},
   "outputs": [
    {
     "name": "stdout",
     "output_type": "stream",
     "text": [
      "\n",
      "Primary Key: A primary key is used to ensure that data in the specific column is unique. A column \n",
      "cannot have NULL values. It is either an existing table column \n",
      "or a column that is specifically generated by the database according to a defined sequence. \n",
      "Only one primary key is allowed in a table.\n",
      "\n",
      "In simple words : primary key should be not null and unique\n",
      "\n",
      "it can be student_id,adhar_no,roll_no\n",
      "\n",
      "\n",
      "\n",
      "Foreign Key: \n",
      "A foreign key is a column or group of columns in a relational database\n",
      "table that provides a link between data in two tables. It is a column (or columns) that\n",
      "references a column (most often the primary key) of another table. \n",
      "more than one foreign key are allowed in a table.\n",
      "\n"
     ]
    }
   ],
   "source": [
    "print(\"\"\"\n",
    "Primary Key: A primary key is used to ensure that data in the specific column is unique. A column \n",
    "cannot have NULL values. It is either an existing table column \n",
    "or a column that is specifically generated by the database according to a defined sequence. \n",
    "Only one primary key is allowed in a table.\n",
    "\n",
    "In simple words : primary key should be not null and unique\n",
    "\n",
    "it can be student_id,adhar_no,roll_no\n",
    "\n",
    "\n",
    "\n",
    "Foreign Key: \n",
    "A foreign key is a column or group of columns in a relational database\n",
    "table that provides a link between data in two tables. It is a column (or columns) that\n",
    "references a column (most often the primary key) of another table. \n",
    "more than one foreign key are allowed in a table.\n",
    "\"\"\")"
   ]
  },
  {
   "cell_type": "code",
   "execution_count": null,
   "id": "26064270",
   "metadata": {},
   "outputs": [],
   "source": []
  },
  {
   "cell_type": "markdown",
   "id": "22677020",
   "metadata": {},
   "source": [
    "Q6. Write a python code to connect MySQL to python. Explain the cursor() and execute() method."
   ]
  },
  {
   "cell_type": "code",
   "execution_count": 9,
   "id": "f99f2a8d",
   "metadata": {},
   "outputs": [
    {
     "ename": "ModuleNotFoundError",
     "evalue": "No module named 'mysql'",
     "output_type": "error",
     "traceback": [
      "\u001b[1;31m---------------------------------------------------------------------------\u001b[0m",
      "\u001b[1;31mModuleNotFoundError\u001b[0m                       Traceback (most recent call last)",
      "Input \u001b[1;32mIn [9]\u001b[0m, in \u001b[0;36m<cell line: 1>\u001b[1;34m()\u001b[0m\n\u001b[1;32m----> 1\u001b[0m \u001b[38;5;28;01mimport\u001b[39;00m \u001b[38;5;21;01mmysql\u001b[39;00m\u001b[38;5;21;01m.\u001b[39;00m\u001b[38;5;21;01mconnector\u001b[39;00m\n",
      "\u001b[1;31mModuleNotFoundError\u001b[0m: No module named 'mysql'"
     ]
    }
   ],
   "source": [
    "import mysql.connector"
   ]
  },
  {
   "cell_type": "code",
   "execution_count": 10,
   "id": "595d5c42",
   "metadata": {},
   "outputs": [
    {
     "name": "stdout",
     "output_type": "stream",
     "text": [
      "Collecting mysql.connector\n",
      "  Downloading mysql-connector-2.2.9.tar.gz (11.9 MB)\n",
      "Building wheels for collected packages: mysql.connector\n",
      "  Building wheel for mysql.connector (setup.py): started\n",
      "  Building wheel for mysql.connector (setup.py): finished with status 'done'\n",
      "  Created wheel for mysql.connector: filename=mysql_connector-2.2.9-cp39-cp39-win_amd64.whl size=247961 sha256=12d6f3c3457b1e65f06ceeea29266391e5f6d795fe3f215e69f805afd27fa9f6\n",
      "  Stored in directory: c:\\users\\vansh\\appdata\\local\\pip\\cache\\wheels\\7b\\14\\39\\5aad423666e827dfe9a1fbcd111ac17171e7c9865d570780ce\n",
      "Successfully built mysql.connector\n",
      "Installing collected packages: mysql.connector\n",
      "Successfully installed mysql.connector-2.2.9\n",
      "Note: you may need to restart the kernel to use updated packages.\n"
     ]
    }
   ],
   "source": [
    "pip install mysql.connector\n"
   ]
  },
  {
   "cell_type": "code",
   "execution_count": 2,
   "id": "b2b6a115",
   "metadata": {},
   "outputs": [],
   "source": [
    "import mysql.connector"
   ]
  },
  {
   "cell_type": "code",
   "execution_count": 4,
   "id": "66914751",
   "metadata": {},
   "outputs": [],
   "source": [
    "db = mysql.connector.connect(\n",
    "host = \"localhost\",\n",
    "user = \"username\",\n",
    "password=\"password\",\n",
    "database =\"dbnew\"\n",
    ")"
   ]
  },
  {
   "cell_type": "code",
   "execution_count": 7,
   "id": "fd79c8b3",
   "metadata": {},
   "outputs": [],
   "source": [
    "mycursor = db.cursor()\n",
    "\n",
    "mycursor.execute(\"SELECT * tabelName\")"
   ]
  },
  {
   "cell_type": "code",
   "execution_count": 8,
   "id": "b1e74dba",
   "metadata": {},
   "outputs": [
    {
     "name": "stdout",
     "output_type": "stream",
     "text": [
      "\n",
      "Cursors\n",
      "\n",
      "Whenever DML statements are executed, a temporary work area \n",
      "is created in the system memory and it is called a cursor\n",
      "\n",
      "A cursor can have more than one row, but processing wise only 1 row is taken into account. \n",
      "\n",
      "Cursors are very helpful in all kinds of databases like \n",
      "Oracle, SQL Server, MySQL, etc. \n",
      "They can be used well with DML statements like Update, Insert and Delete. \n",
      "\n",
      "cursor()\n",
      "Cursor in case of python\n",
      "in mysql.connector module\n",
      "\n",
      "It is an object that is used to make the connection \n",
      "for executing SQL queries. It acts as middleware between SQL\n",
      "database connection and SQL query\n",
      "\n",
      "\n",
      "execute()\n",
      "This method executes the given database operation (query or command). \n",
      "The parameters found in the tuple or dictionary \n",
      "params are bound to the variables in the operation.\n",
      "\n"
     ]
    }
   ],
   "source": [
    "print(\"\"\"\n",
    "Cursors\n",
    "\n",
    "Whenever DML statements are executed, a temporary work area \n",
    "is created in the system memory and it is called a cursor\n",
    "\n",
    "A cursor can have more than one row, but processing wise only 1 row is taken into account. \n",
    "\n",
    "Cursors are very helpful in all kinds of databases like \n",
    "Oracle, SQL Server, MySQL, etc. \n",
    "They can be used well with DML statements like Update, Insert and Delete. \n",
    "\n",
    "cursor()\n",
    "Cursor in case of python\n",
    "in mysql.connector module\n",
    "\n",
    "It is an object that is used to make the connection \n",
    "for executing SQL queries. It acts as middleware between SQL\n",
    "database connection and SQL query\n",
    "\n",
    "\n",
    "execute()\n",
    "This method executes the given database operation (query or command). \n",
    "The parameters found in the tuple or dictionary \n",
    "params are bound to the variables in the operation.\n",
    "\"\"\")"
   ]
  },
  {
   "cell_type": "code",
   "execution_count": null,
   "id": "1b73bd5a",
   "metadata": {},
   "outputs": [],
   "source": []
  },
  {
   "cell_type": "markdown",
   "id": "bfc7490f",
   "metadata": {},
   "source": [
    "Q7. Give the order of execution of SQL clauses in an SQL query."
   ]
  },
  {
   "cell_type": "code",
   "execution_count": 9,
   "id": "6cf29d4e",
   "metadata": {},
   "outputs": [
    {
     "name": "stdout",
     "output_type": "stream",
     "text": [
      "\n",
      "\n",
      "Order of execution of SQL clauses in an SQL query are as follows:\n",
      "\n",
      "1. FROM\n",
      "2. WHERE\n",
      "3. GROUP BY\n",
      "4. HAVING\n",
      "5. SELECT\n",
      "6. ORDER BY\n",
      "7. LIMIT\n",
      "\n",
      "\n"
     ]
    }
   ],
   "source": [
    "print(\"\"\"\n",
    "\n",
    "Order of execution of SQL clauses in an SQL query are as follows:\n",
    "\n",
    "1. FROM\n",
    "2. WHERE\n",
    "3. GROUP BY\n",
    "4. HAVING\n",
    "5. SELECT\n",
    "6. ORDER BY\n",
    "7. LIMIT\n",
    "\n",
    "\"\"\")"
   ]
  },
  {
   "cell_type": "code",
   "execution_count": null,
   "id": "8d7e8fdf",
   "metadata": {},
   "outputs": [],
   "source": []
  }
 ],
 "metadata": {
  "kernelspec": {
   "display_name": "Python 3 (ipykernel)",
   "language": "python",
   "name": "python3"
  },
  "language_info": {
   "codemirror_mode": {
    "name": "ipython",
    "version": 3
   },
   "file_extension": ".py",
   "mimetype": "text/x-python",
   "name": "python",
   "nbconvert_exporter": "python",
   "pygments_lexer": "ipython3",
   "version": "3.9.12"
  }
 },
 "nbformat": 4,
 "nbformat_minor": 5
}
