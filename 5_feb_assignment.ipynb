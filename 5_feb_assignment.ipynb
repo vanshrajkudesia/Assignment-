{
  "metadata": {
    "language_info": {
      "codemirror_mode": {
        "name": "python",
        "version": 3
      },
      "file_extension": ".py",
      "mimetype": "text/x-python",
      "name": "python",
      "nbconvert_exporter": "python",
      "pygments_lexer": "ipython3",
      "version": "3.8"
    },
    "kernelspec": {
      "name": "python",
      "display_name": "Python (Pyodide)",
      "language": "python"
    }
  },
  "nbformat_minor": 4,
  "nbformat": 4,
  "cells": [
    {
      "cell_type": "markdown",
      "source": "Q1. Explain Class and Object with respect to Object-Oriented Programming. Give a suitable example.",
      "metadata": {}
    },
    {
      "cell_type": "code",
      "source": "print(\"\"\"\nClass are just like Templates or Blueprint.\nAnd it is Useridefine data type.It is defined once and multiple objects are created from one class with similar properties.\nFor Example:\nWe once define class car which have some property(color,company,name,speed etc) and when we create object of class car it have all properties which a car\nhave and every objects of car class have same property\n\n\n\"\"\")",
      "metadata": {
        "trusted": true
      },
      "execution_count": 1,
      "outputs": [
        {
          "name": "stdout",
          "text": "\nClass are just like Templates or Blueprint.\nAnd it is Useridefine data type.It is defined once and multiple objects are created from one class with similar properties.\nFor Example:\nWe once define class car which have some property(color,company,name,speed etc) and when we create object of class car it have all properties which a car\nhave and every objects of car class have same property\n\n\n\n",
          "output_type": "stream"
        }
      ]
    },
    {
      "cell_type": "code",
      "source": "#Example for question 1",
      "metadata": {
        "trusted": true
      },
      "execution_count": 2,
      "outputs": []
    },
    {
      "cell_type": "code",
      "source": "class car:\n    \n    def __init__(self,color,company,name,speed,year):\n        self.__color = color\n        self.__company = company\n        self.__name = name \n        self.__speed =speed\n        self.__year =year\n    def get_car_details(self):\n        return self.__color,self.__company,self.__name,self.__speed,self.__year",
      "metadata": {
        "trusted": true
      },
      "execution_count": 7,
      "outputs": []
    },
    {
      "cell_type": "code",
      "source": "car1 = car(\"Black\",\"Tata\",\"Range Rover\",320,2021)\ncar2 = car(\"Black\",\"Tata\",\"Range Rover\",320,2022)\ncar3 = car(\"White\",\"Tata\",\"Range Rover\",320,2021)\ncar4 = car(\"White\",\"Tata\",\"Range Rover\",320,2022)",
      "metadata": {},
      "execution_count": null,
      "outputs": []
    },
    {
      "cell_type": "code",
      "source": "car1.get_car_details()\n",
      "metadata": {
        "trusted": true
      },
      "execution_count": 17,
      "outputs": [
        {
          "execution_count": 17,
          "output_type": "execute_result",
          "data": {
            "text/plain": "('Black', 'Tata', 'Range Rover', 320, 2021)"
          },
          "metadata": {}
        }
      ]
    },
    {
      "cell_type": "code",
      "source": "car2.get_car_details()\n",
      "metadata": {
        "trusted": true
      },
      "execution_count": 18,
      "outputs": [
        {
          "execution_count": 18,
          "output_type": "execute_result",
          "data": {
            "text/plain": "('Black', 'Tata', 'Range Rover', 320, 2022)"
          },
          "metadata": {}
        }
      ]
    },
    {
      "cell_type": "code",
      "source": "car3.get_car_details()\n",
      "metadata": {
        "trusted": true
      },
      "execution_count": 19,
      "outputs": [
        {
          "execution_count": 19,
          "output_type": "execute_result",
          "data": {
            "text/plain": "('White', 'Tata', 'Range Rover', 320, 2021)"
          },
          "metadata": {}
        }
      ]
    },
    {
      "cell_type": "code",
      "source": "car4.get_car_details()",
      "metadata": {
        "trusted": true
      },
      "execution_count": 20,
      "outputs": [
        {
          "execution_count": 20,
          "output_type": "execute_result",
          "data": {
            "text/plain": "('White', 'Tata', 'Range Rover', 320, 2022)"
          },
          "metadata": {}
        }
      ]
    },
    {
      "cell_type": "code",
      "source": "",
      "metadata": {},
      "execution_count": null,
      "outputs": []
    },
    {
      "cell_type": "markdown",
      "source": "Q2. Name the four pillars of OOPs.",
      "metadata": {}
    },
    {
      "cell_type": "code",
      "source": "print(\"\"\"\nThe four pillars for OOP are:\n    1.Polymorphism.\n    2.Encapsulation.\n    3.Inheritance.\n    4.Abstraction.\n\"\"\")",
      "metadata": {
        "trusted": true
      },
      "execution_count": 21,
      "outputs": [
        {
          "name": "stdout",
          "text": "\nThe four pillars for OOP are:\n    1.Polymorphism.\n    2.Encapsulation.\n    3.Inheritance.\n    4.Abstraction.\n\n",
          "output_type": "stream"
        }
      ]
    },
    {
      "cell_type": "code",
      "source": "",
      "metadata": {},
      "execution_count": null,
      "outputs": []
    },
    {
      "cell_type": "markdown",
      "source": "Q3. Explain why the __init__() function is used. Give a suitable example.",
      "metadata": {}
    },
    {
      "cell_type": "code",
      "source": "print(\"\"\"\n__init__(self) is known as constructor and is always executed when class is initiated.\nIt assign values to the data members of the class when an object of the class is created.\n\n\"\"\")",
      "metadata": {
        "trusted": true
      },
      "execution_count": 22,
      "outputs": [
        {
          "name": "stdout",
          "text": "\n__init__(self) is known as constructor and is always executed when class is initiated.\nIt assign values to the data members of the class when an object of the class is created.\n\n\n",
          "output_type": "stream"
        }
      ]
    },
    {
      "cell_type": "code",
      "source": "#Example For Q3",
      "metadata": {
        "trusted": true
      },
      "execution_count": 23,
      "outputs": []
    },
    {
      "cell_type": "code",
      "source": "class Human:\n    def __init__(self,name,age,dob,gender,height,weight):\n        self.name = name\n        self.age = age\n        self.dob = dob\n        self.gender =gender\n        self.height = height\n        self.weight = weight\n        \n    def details(self):\n        return self.name,self.age,self.dob,self.gender,self.height,self.weight\n    ",
      "metadata": {
        "trusted": true
      },
      "execution_count": 38,
      "outputs": []
    },
    {
      "cell_type": "code",
      "source": "Human1 =Human(\"xx\",19,\"01:02:2004\",\"F\",166,45)",
      "metadata": {
        "trusted": true
      },
      "execution_count": 39,
      "outputs": []
    },
    {
      "cell_type": "code",
      "source": "Human2 =Human(\"xy\",19,\"01:02:2004\",\"M\",176,75)",
      "metadata": {
        "trusted": true
      },
      "execution_count": 40,
      "outputs": []
    },
    {
      "cell_type": "code",
      "source": "Human1.details()",
      "metadata": {
        "trusted": true
      },
      "execution_count": 41,
      "outputs": [
        {
          "execution_count": 41,
          "output_type": "execute_result",
          "data": {
            "text/plain": "('xx', 19, '01:02:2004', 'F', 166, 45)"
          },
          "metadata": {}
        }
      ]
    },
    {
      "cell_type": "code",
      "source": "Human2.details()",
      "metadata": {
        "trusted": true
      },
      "execution_count": 42,
      "outputs": [
        {
          "execution_count": 42,
          "output_type": "execute_result",
          "data": {
            "text/plain": "('xy', 19, '01:02:2004', 'M', 176, 75)"
          },
          "metadata": {}
        }
      ]
    },
    {
      "cell_type": "code",
      "source": "",
      "metadata": {},
      "execution_count": null,
      "outputs": []
    },
    {
      "cell_type": "markdown",
      "source": "Q4. Why self is used in OOPs?",
      "metadata": {}
    },
    {
      "cell_type": "code",
      "source": "print(\"\"\"\n\nThe self variable is used to represent the object of the class which is often used in object-oriented programming. \nIt works as a reference to the object.\nPython uses the self parameter to refer to instance attributes and methods of the class.\nwe can also use any other word in place of self but it is  a convention.\n\"\"\")",
      "metadata": {
        "trusted": true
      },
      "execution_count": 43,
      "outputs": [
        {
          "name": "stdout",
          "text": "\n\nThe self variable is used to represent the object of the class which is often used in object-oriented programming. \nIt works as a reference to the object.\nPython uses the self parameter to refer to instance attributes and methods of the class.\nwe can also use any other word in place of self but it is  a convention\n\n",
          "output_type": "stream"
        }
      ]
    },
    {
      "cell_type": "code",
      "source": "class Metaverse:\n    \n    def __init__(metaverse):\n        metaverse.__no_of_universe =\"INF\"\n        \n    def no_of_universe(metaverse):\n        return metaverse.__no_of_universe\n        ",
      "metadata": {
        "trusted": true
      },
      "execution_count": 63,
      "outputs": []
    },
    {
      "cell_type": "code",
      "source": "original = Metaverse()",
      "metadata": {
        "trusted": true
      },
      "execution_count": 64,
      "outputs": []
    },
    {
      "cell_type": "code",
      "source": "original.no_of_universe()",
      "metadata": {
        "trusted": true
      },
      "execution_count": 65,
      "outputs": [
        {
          "execution_count": 65,
          "output_type": "execute_result",
          "data": {
            "text/plain": "'INF'"
          },
          "metadata": {}
        }
      ]
    },
    {
      "cell_type": "code",
      "source": "",
      "metadata": {
        "trusted": true
      },
      "execution_count": null,
      "outputs": []
    },
    {
      "cell_type": "markdown",
      "source": "Q5. What is inheritance? Give an example for each type of inheritance.",
      "metadata": {}
    },
    {
      "cell_type": "code",
      "source": "class GreatGrandFather:\n    \n    def identity(self):\n        return \"I have a long mustache\"",
      "metadata": {
        "trusted": true
      },
      "execution_count": 87,
      "outputs": []
    },
    {
      "cell_type": "code",
      "source": "print(\"\"\" \nInheritance is a way of acquiring the features and behaviors of a class by another class.\nThere are Many Types of Inheritance.Which are made of basically by combination two types of inheritance.\n\n1.Multi-Level Inheritance.\n        (For Example, We Inherit some feature from our father and our father inherit some feature from grandfather)\n2.Multiple Inheritance.\n        (For Example, We Inherit some feature from our father and some from our mother)\n        \n        \nFor Practical Example,Check The Code Of Next Cells\n\"\"\")",
      "metadata": {
        "trusted": true
      },
      "execution_count": 68,
      "outputs": [
        {
          "name": "stdout",
          "text": " \nInheritance is a way of acquiring the features and behaviors of a class by another class.\nThere are Many Types of Inheritance.Which are made of basically by combination two types of inheritance.\n\n1.Multi-Level Inheritance.\n        (For Example, We Inherit some feature from our father and our father inherit some feature from grandfather)\n2.Multiple Inheritance.\n        (For Example, We Inherit some feature from our father and some from our mother)\n        \n        \nFor Practical Example,Check The Code Of Next Cells\n\n",
          "output_type": "stream"
        }
      ]
    },
    {
      "cell_type": "code",
      "source": "#Multi-level Inheritance",
      "metadata": {
        "trusted": true
      },
      "execution_count": 92,
      "outputs": []
    },
    {
      "cell_type": "code",
      "source": "class GrandFather(GreatGrandFather):\n    pass",
      "metadata": {
        "trusted": true
      },
      "execution_count": 93,
      "outputs": []
    },
    {
      "cell_type": "code",
      "source": "class Father(GrandFather):\n    pass",
      "metadata": {
        "trusted": true
      },
      "execution_count": 94,
      "outputs": []
    },
    {
      "cell_type": "code",
      "source": "F = Father()",
      "metadata": {
        "trusted": true
      },
      "execution_count": 95,
      "outputs": []
    },
    {
      "cell_type": "code",
      "source": "F.identity()",
      "metadata": {
        "trusted": true
      },
      "execution_count": 96,
      "outputs": [
        {
          "execution_count": 96,
          "output_type": "execute_result",
          "data": {
            "text/plain": "'I have a long mustache'"
          },
          "metadata": {}
        }
      ]
    },
    {
      "cell_type": "code",
      "source": "",
      "metadata": {},
      "execution_count": null,
      "outputs": []
    },
    {
      "cell_type": "code",
      "source": "#Multiple Inheritance",
      "metadata": {
        "trusted": true
      },
      "execution_count": 97,
      "outputs": []
    },
    {
      "cell_type": "code",
      "source": "class Father:\n    \n    def smart(self):\n        return \"Smart\"",
      "metadata": {
        "trusted": true
      },
      "execution_count": 107,
      "outputs": []
    },
    {
      "cell_type": "code",
      "source": "class Mother:\n    \n    def intelligent(self):\n        return \"Intelligent\"",
      "metadata": {
        "trusted": true
      },
      "execution_count": 108,
      "outputs": []
    },
    {
      "cell_type": "code",
      "source": "class Child(Father,Mother):\n    pass",
      "metadata": {
        "trusted": true
      },
      "execution_count": 109,
      "outputs": []
    },
    {
      "cell_type": "code",
      "source": "child = Child()",
      "metadata": {
        "trusted": true
      },
      "execution_count": 110,
      "outputs": []
    },
    {
      "cell_type": "code",
      "source": "child.smart()",
      "metadata": {
        "trusted": true
      },
      "execution_count": 112,
      "outputs": [
        {
          "execution_count": 112,
          "output_type": "execute_result",
          "data": {
            "text/plain": "'Smart'"
          },
          "metadata": {}
        }
      ]
    },
    {
      "cell_type": "code",
      "source": "child.intelligent()",
      "metadata": {
        "trusted": true
      },
      "execution_count": 113,
      "outputs": [
        {
          "execution_count": 113,
          "output_type": "execute_result",
          "data": {
            "text/plain": "'Intelligent'"
          },
          "metadata": {}
        }
      ]
    },
    {
      "cell_type": "code",
      "source": "",
      "metadata": {},
      "execution_count": null,
      "outputs": []
    }
  ]
}