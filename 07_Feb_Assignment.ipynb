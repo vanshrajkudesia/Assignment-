{
 "cells": [
  {
   "cell_type": "markdown",
   "id": "273a6b29",
   "metadata": {},
   "source": [
    "Q1. You are writing code for a company. The requirement of the company is that you create a python\n",
    "function that will check whether the password entered by the user is correct or not. The function should\n",
    "take the password as input and return the string “Valid Password” if the entered password follows the\n",
    "below-given password guidelines else it should return “Invalid Password”.\n",
    "\n",
    "\n",
    "Note: \n",
    "\n",
    "1. The Password should contain at least two uppercase letters and at least two lowercase letters.\n",
    "\n",
    "2. The Password should contain at least a number and three special characters\n",
    "\n",
    "3. The length of the password should be 10 characters long."
   ]
  },
  {
   "cell_type": "code",
   "execution_count": 6,
   "id": "fd148d48",
   "metadata": {},
   "outputs": [],
   "source": [
    "def ValidPassword(password):\n",
    "    ct_upper=0\n",
    "    ct_lower=0\n",
    "    ct_num = 0\n",
    "    ct_spc = 0\n",
    "    spc = ['~', ':', \"'\", '+', '[', '\\\\', '@', '^', '{', '%', '(', '-', '\"', '*', '|', ',', '&', '<', '`', '}', '.', '_', '=', ']', '!', '>', ';', '?', '#', '$', ')', '/']\n",
    "    if(len(password)==10):         #should contain ten(i.e, not greater or less then ten) given in question if you want password greater 10 use '>=' in place of '=='\n",
    "        for i in password:\n",
    "            if(i.isupper()):\n",
    "                ct_upper+=1\n",
    "            elif(i.islower()):\n",
    "                ct_lower+=1\n",
    "            elif(i.isnumeric()):\n",
    "                ct_num+=1\n",
    "            elif(i in spc):\n",
    "                ct_spc+=1\n",
    "    \n",
    "    if(ct_upper>=2 and ct_lower>=2 and ct_num>=1 and ct_spc==3): #three special characters is given in question if you want password that contain more than three special char replace '==' to '>='\n",
    "        return \"Valid Password\"\n",
    "    else:\n",
    "        return \"Invalid Password\"\n",
    "        "
   ]
  },
  {
   "cell_type": "code",
   "execution_count": 10,
   "id": "c4e8be02",
   "metadata": {},
   "outputs": [
    {
     "name": "stdout",
     "output_type": "stream",
     "text": [
      "Valid Password\n"
     ]
    }
   ],
   "source": [
    "print(ValidPassword(\"India#$8H@\"))"
   ]
  },
  {
   "cell_type": "code",
   "execution_count": null,
   "id": "0eceffb7",
   "metadata": {},
   "outputs": [],
   "source": []
  },
  {
   "cell_type": "markdown",
   "id": "3de89e3a",
   "metadata": {},
   "source": [
    "Q2. Solve the below-given questions using at least one of the following:\n",
    "    \n",
    "1. Lambda functioJ\n",
    "\n",
    "2. Filter functioJ\n",
    "\n",
    "3. Zap functioJ\n",
    "\n",
    "4. List ComprehensioI\n",
    "\n",
    "A. Check if the string starts with a particular letterY\n",
    "\n",
    "B. Check if the string is numericY\n",
    "\n",
    "C. Sort a list of tuples having fruit names and their quantity. [(\"mango\",99),(\"orange\",80), (\"grapes\", 1000)]\n",
    "                                                                \n",
    "D. Find the squares of numbers from 1 to 10Y\n",
    "                                                                \n",
    "E. Find the cube root of numbers from 1 to 10Y\n",
    "                                                                \n",
    "F. Check if a given number is evenY\n",
    "                                                                \n",
    "G. Filter odd numbers from the given list.\n",
    "                                                                \n",
    "[1,2,3,4,5,6,7,8,9,10]\n",
    "                                                                \n",
    "H. Sort a list of integers into positive and negative integers lists.\n",
    "                                                                \n",
    "[1,2,3,4,5,6,-1,-2,-3,-4,-5,0]"
   ]
  },
  {
   "cell_type": "code",
   "execution_count": 21,
   "id": "62227149",
   "metadata": {},
   "outputs": [
    {
     "name": "stdout",
     "output_type": "stream",
     "text": [
      "A\n"
     ]
    }
   ],
   "source": [
    "print(\"A\")"
   ]
  },
  {
   "cell_type": "code",
   "execution_count": 22,
   "id": "5ef2ba46",
   "metadata": {},
   "outputs": [],
   "source": [
    "start_with_I = lambda s:True if s[0]=='I' else False"
   ]
  },
  {
   "cell_type": "code",
   "execution_count": 23,
   "id": "30d1a283",
   "metadata": {},
   "outputs": [
    {
     "data": {
      "text/plain": [
       "True"
      ]
     },
     "execution_count": 23,
     "metadata": {},
     "output_type": "execute_result"
    }
   ],
   "source": [
    "start_with_I(\"India\")"
   ]
  },
  {
   "cell_type": "code",
   "execution_count": 24,
   "id": "1cd53ae0",
   "metadata": {},
   "outputs": [
    {
     "data": {
      "text/plain": [
       "False"
      ]
     },
     "execution_count": 24,
     "metadata": {},
     "output_type": "execute_result"
    }
   ],
   "source": [
    "start_with_I(\"America\")"
   ]
  },
  {
   "cell_type": "code",
   "execution_count": 32,
   "id": "051a7117",
   "metadata": {},
   "outputs": [
    {
     "data": {
      "text/plain": [
       "True"
      ]
     },
     "execution_count": 32,
     "metadata": {},
     "output_type": "execute_result"
    }
   ],
   "source": [
    "start_with_I(\"I9\")"
   ]
  },
  {
   "cell_type": "code",
   "execution_count": 25,
   "id": "ed94815d",
   "metadata": {},
   "outputs": [
    {
     "name": "stdout",
     "output_type": "stream",
     "text": [
      "B\n"
     ]
    }
   ],
   "source": [
    "print(\"B\")"
   ]
  },
  {
   "cell_type": "code",
   "execution_count": 33,
   "id": "18e667b0",
   "metadata": {},
   "outputs": [],
   "source": [
    "isnum = lambda x:True if x.isnumeric() else False"
   ]
  },
  {
   "cell_type": "code",
   "execution_count": 36,
   "id": "22006171",
   "metadata": {},
   "outputs": [
    {
     "data": {
      "text/plain": [
       "True"
      ]
     },
     "execution_count": 36,
     "metadata": {},
     "output_type": "execute_result"
    }
   ],
   "source": [
    "isnum(\"8\")"
   ]
  },
  {
   "cell_type": "code",
   "execution_count": 37,
   "id": "9c4d77f1",
   "metadata": {},
   "outputs": [
    {
     "data": {
      "text/plain": [
       "False"
      ]
     },
     "execution_count": 37,
     "metadata": {},
     "output_type": "execute_result"
    }
   ],
   "source": [
    "isnum(\"a\")"
   ]
  },
  {
   "cell_type": "code",
   "execution_count": 38,
   "id": "a1e2b3fc",
   "metadata": {},
   "outputs": [
    {
     "data": {
      "text/plain": [
       "False"
      ]
     },
     "execution_count": 38,
     "metadata": {},
     "output_type": "execute_result"
    }
   ],
   "source": [
    "isnum(\"Schinchan\")"
   ]
  },
  {
   "cell_type": "code",
   "execution_count": 44,
   "id": "8d90b162",
   "metadata": {},
   "outputs": [
    {
     "name": "stdout",
     "output_type": "stream",
     "text": [
      "B using Filter\n"
     ]
    }
   ],
   "source": [
    "print(\"B using Filter\")"
   ]
  },
  {
   "cell_type": "code",
   "execution_count": 47,
   "id": "b944ef23",
   "metadata": {},
   "outputs": [],
   "source": [
    "def isnumber(num):\n",
    "    if num.isnumeric():\n",
    "        return True\n",
    "    else:\n",
    "        return False\n",
    "a =[\"abc\",\"xyz\",\"89\",\"Doremon\",\"Nobita\",\"are\",\"friends\",\"52\"]"
   ]
  },
  {
   "cell_type": "code",
   "execution_count": 50,
   "id": "c7fac85a",
   "metadata": {},
   "outputs": [
    {
     "name": "stdout",
     "output_type": "stream",
     "text": [
      "89\n",
      "52\n"
     ]
    }
   ],
   "source": [
    "n = filter(isnumber,a)\n",
    "for i in n:\n",
    "    print(i)"
   ]
  },
  {
   "cell_type": "code",
   "execution_count": null,
   "id": "baef76f1",
   "metadata": {},
   "outputs": [],
   "source": []
  },
  {
   "cell_type": "code",
   "execution_count": 39,
   "id": "fd54f46a",
   "metadata": {},
   "outputs": [
    {
     "name": "stdout",
     "output_type": "stream",
     "text": [
      "C\n"
     ]
    }
   ],
   "source": [
    "print(\"C\")"
   ]
  },
  {
   "cell_type": "code",
   "execution_count": 42,
   "id": "e769fc2d",
   "metadata": {},
   "outputs": [],
   "source": [
    "sort = lambda a:a.sort()\n",
    "a = [(\"mango\",99),(\"orange\",80), (\"grapes\", 1000)]\n",
    "sort(a)"
   ]
  },
  {
   "cell_type": "code",
   "execution_count": 43,
   "id": "fda0f097",
   "metadata": {},
   "outputs": [
    {
     "data": {
      "text/plain": [
       "[('grapes', 1000), ('mango', 99), ('orange', 80)]"
      ]
     },
     "execution_count": 43,
     "metadata": {},
     "output_type": "execute_result"
    }
   ],
   "source": [
    "a"
   ]
  },
  {
   "cell_type": "code",
   "execution_count": null,
   "id": "1b84c7a2",
   "metadata": {},
   "outputs": [],
   "source": []
  },
  {
   "cell_type": "code",
   "execution_count": 52,
   "id": "4b731427",
   "metadata": {},
   "outputs": [
    {
     "name": "stdout",
     "output_type": "stream",
     "text": [
      "D\n"
     ]
    }
   ],
   "source": [
    "print(\"D\")"
   ]
  },
  {
   "cell_type": "code",
   "execution_count": 113,
   "id": "03405673",
   "metadata": {},
   "outputs": [],
   "source": [
    "l = [i**2 for i in range(1,11)]"
   ]
  },
  {
   "cell_type": "code",
   "execution_count": 114,
   "id": "9fda27a6",
   "metadata": {},
   "outputs": [
    {
     "data": {
      "text/plain": [
       "[1, 4, 9, 16, 25, 36, 49, 64, 81, 100]"
      ]
     },
     "execution_count": 114,
     "metadata": {},
     "output_type": "execute_result"
    }
   ],
   "source": [
    "l"
   ]
  },
  {
   "cell_type": "code",
   "execution_count": null,
   "id": "2dfd4df0",
   "metadata": {},
   "outputs": [],
   "source": []
  },
  {
   "cell_type": "code",
   "execution_count": 112,
   "id": "b6071bdc",
   "metadata": {},
   "outputs": [
    {
     "name": "stdout",
     "output_type": "stream",
     "text": [
      "E\n"
     ]
    }
   ],
   "source": [
    "print(\"E\")"
   ]
  },
  {
   "cell_type": "code",
   "execution_count": 115,
   "id": "a1e7d5e1",
   "metadata": {},
   "outputs": [],
   "source": [
    "l = [i**(1/3) for i in range(1,11)]"
   ]
  },
  {
   "cell_type": "code",
   "execution_count": 116,
   "id": "dcf655ce",
   "metadata": {},
   "outputs": [
    {
     "data": {
      "text/plain": [
       "[1.0,\n",
       " 1.2599210498948732,\n",
       " 1.4422495703074083,\n",
       " 1.5874010519681994,\n",
       " 1.7099759466766968,\n",
       " 1.8171205928321397,\n",
       " 1.912931182772389,\n",
       " 2.0,\n",
       " 2.080083823051904,\n",
       " 2.154434690031884]"
      ]
     },
     "execution_count": 116,
     "metadata": {},
     "output_type": "execute_result"
    }
   ],
   "source": [
    "l"
   ]
  },
  {
   "cell_type": "code",
   "execution_count": null,
   "id": "936526f0",
   "metadata": {},
   "outputs": [],
   "source": []
  },
  {
   "cell_type": "code",
   "execution_count": 126,
   "id": "141e042a",
   "metadata": {},
   "outputs": [
    {
     "name": "stdout",
     "output_type": "stream",
     "text": [
      "F\n"
     ]
    }
   ],
   "source": [
    "print(\"F\")"
   ]
  },
  {
   "cell_type": "code",
   "execution_count": 117,
   "id": "475a0b00",
   "metadata": {},
   "outputs": [],
   "source": [
    "def is_even(x):\n",
    "    if(x%2==1):\n",
    "        return False\n",
    "    else:\n",
    "        return True"
   ]
  },
  {
   "cell_type": "code",
   "execution_count": 124,
   "id": "ca7820ec",
   "metadata": {},
   "outputs": [],
   "source": [
    "l = filter(is_even,[1,2,3,4,5,6])\n"
   ]
  },
  {
   "cell_type": "code",
   "execution_count": 125,
   "id": "8895e34c",
   "metadata": {},
   "outputs": [
    {
     "name": "stdout",
     "output_type": "stream",
     "text": [
      "2\n",
      "4\n",
      "6\n"
     ]
    }
   ],
   "source": [
    "for i in l:\n",
    "    print(i)"
   ]
  },
  {
   "cell_type": "code",
   "execution_count": 127,
   "id": "c507fb91",
   "metadata": {},
   "outputs": [
    {
     "name": "stdout",
     "output_type": "stream",
     "text": [
      "F using Lambda Function\n"
     ]
    }
   ],
   "source": [
    "print(\"F using Lambda Function\")"
   ]
  },
  {
   "cell_type": "code",
   "execution_count": 131,
   "id": "6a517a01",
   "metadata": {},
   "outputs": [],
   "source": [
    "is_even  = lambda x:True if(x%2==0) else False"
   ]
  },
  {
   "cell_type": "code",
   "execution_count": 136,
   "id": "6501b5c7",
   "metadata": {},
   "outputs": [
    {
     "data": {
      "text/plain": [
       "False"
      ]
     },
     "execution_count": 136,
     "metadata": {},
     "output_type": "execute_result"
    }
   ],
   "source": [
    "is_even(1)"
   ]
  },
  {
   "cell_type": "code",
   "execution_count": 137,
   "id": "78f48fb1",
   "metadata": {},
   "outputs": [
    {
     "data": {
      "text/plain": [
       "True"
      ]
     },
     "execution_count": 137,
     "metadata": {},
     "output_type": "execute_result"
    }
   ],
   "source": [
    "is_even(2)"
   ]
  },
  {
   "cell_type": "code",
   "execution_count": 138,
   "id": "fa1d2253",
   "metadata": {},
   "outputs": [
    {
     "data": {
      "text/plain": [
       "True"
      ]
     },
     "execution_count": 138,
     "metadata": {},
     "output_type": "execute_result"
    }
   ],
   "source": [
    "is_even(2004)"
   ]
  },
  {
   "cell_type": "code",
   "execution_count": null,
   "id": "e99e0543",
   "metadata": {},
   "outputs": [],
   "source": []
  },
  {
   "cell_type": "code",
   "execution_count": null,
   "id": "f3123ddd",
   "metadata": {},
   "outputs": [],
   "source": []
  },
  {
   "cell_type": "code",
   "execution_count": 139,
   "id": "ab521995",
   "metadata": {},
   "outputs": [
    {
     "name": "stdout",
     "output_type": "stream",
     "text": [
      "G\n"
     ]
    }
   ],
   "source": [
    "print(\"G\")"
   ]
  },
  {
   "cell_type": "code",
   "execution_count": 144,
   "id": "5bc8aa3f",
   "metadata": {},
   "outputs": [],
   "source": [
    "def odd(x):\n",
    "    if(x%2==1):\n",
    "        return True\n",
    "    else:\n",
    "        return False"
   ]
  },
  {
   "cell_type": "code",
   "execution_count": 145,
   "id": "b06c7b0f",
   "metadata": {},
   "outputs": [],
   "source": [
    "aa = [i for i in range(1,11)]"
   ]
  },
  {
   "cell_type": "code",
   "execution_count": 146,
   "id": "c782fcb9",
   "metadata": {},
   "outputs": [],
   "source": [
    "f = filter(odd,aa)"
   ]
  },
  {
   "cell_type": "code",
   "execution_count": 147,
   "id": "de8dac21",
   "metadata": {},
   "outputs": [
    {
     "name": "stdout",
     "output_type": "stream",
     "text": [
      "1\n",
      "3\n",
      "5\n",
      "7\n",
      "9\n"
     ]
    }
   ],
   "source": [
    "for j in f:\n",
    "    print(j)"
   ]
  },
  {
   "cell_type": "code",
   "execution_count": null,
   "id": "6bb0ada9",
   "metadata": {},
   "outputs": [],
   "source": []
  },
  {
   "cell_type": "code",
   "execution_count": 148,
   "id": "fa5566a5",
   "metadata": {},
   "outputs": [
    {
     "name": "stdout",
     "output_type": "stream",
     "text": [
      "H\n"
     ]
    }
   ],
   "source": [
    "print(\"H\")"
   ]
  },
  {
   "cell_type": "code",
   "execution_count": 169,
   "id": "41bf2123",
   "metadata": {},
   "outputs": [],
   "source": [
    "def Postive(i):\n",
    "    if(i>=0):\n",
    "        return True\n",
    "    else:\n",
    "        return False\n",
    "    "
   ]
  },
  {
   "cell_type": "code",
   "execution_count": 170,
   "id": "4f820e1a",
   "metadata": {},
   "outputs": [],
   "source": [
    "def Negative(i):\n",
    "    if(i<0):\n",
    "        return True\n",
    "    else:\n",
    "        return False"
   ]
  },
  {
   "cell_type": "code",
   "execution_count": 171,
   "id": "5ea39f73",
   "metadata": {},
   "outputs": [],
   "source": [
    "l=[i for i in range(-5,7)]\n",
    "pos = list(filter(Postive,l))\n",
    "neg = list(filter(Negative,l))"
   ]
  },
  {
   "cell_type": "code",
   "execution_count": 172,
   "id": "18472fe0",
   "metadata": {},
   "outputs": [
    {
     "data": {
      "text/plain": [
       "[0, 1, 2, 3, 4, 5, 6]"
      ]
     },
     "execution_count": 172,
     "metadata": {},
     "output_type": "execute_result"
    }
   ],
   "source": [
    "pos"
   ]
  },
  {
   "cell_type": "code",
   "execution_count": 173,
   "id": "21d82524",
   "metadata": {},
   "outputs": [
    {
     "data": {
      "text/plain": [
       "[-5, -4, -3, -2, -1]"
      ]
     },
     "execution_count": 173,
     "metadata": {},
     "output_type": "execute_result"
    }
   ],
   "source": [
    "neg"
   ]
  },
  {
   "cell_type": "code",
   "execution_count": null,
   "id": "6d580204",
   "metadata": {},
   "outputs": [],
   "source": []
  }
 ],
 "metadata": {
  "kernelspec": {
   "display_name": "Python 3 (ipykernel)",
   "language": "python",
   "name": "python3"
  },
  "language_info": {
   "codemirror_mode": {
    "name": "ipython",
    "version": 3
   },
   "file_extension": ".py",
   "mimetype": "text/x-python",
   "name": "python",
   "nbconvert_exporter": "python",
   "pygments_lexer": "ipython3",
   "version": "3.9.12"
  }
 },
 "nbformat": 4,
 "nbformat_minor": 5
}
