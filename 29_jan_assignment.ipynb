{
  "metadata": {
    "language_info": {
      "codemirror_mode": {
        "name": "python",
        "version": 3
      },
      "file_extension": ".py",
      "mimetype": "text/x-python",
      "name": "python",
      "nbconvert_exporter": "python",
      "pygments_lexer": "ipython3",
      "version": "3.8"
    },
    "kernelspec": {
      "name": "python",
      "display_name": "Python (Pyodide)",
      "language": "python"
    }
  },
  "nbformat_minor": 4,
  "nbformat": 4,
  "cells": [
    {
      "cell_type": "markdown",
      "source": "#Q1. Who developed Python Programming Language? ",
      "metadata": {}
    },
    {
      "cell_type": "code",
      "source": "print(\"\"\"\nPython Language Is Developed By A Dutch Programmer\n            'Guido van Rossum'\n\"\"\")",
      "metadata": {
        "trusted": true
      },
      "execution_count": 3,
      "outputs": [
        {
          "name": "stdout",
          "text": "\nPython Language Is Developed By A Dutch Programmer\n            'Guido van Rossum'\n\n",
          "output_type": "stream"
        }
      ]
    },
    {
      "cell_type": "markdown",
      "source": "#Q2. Which type of Programming does Python support? ",
      "metadata": {}
    },
    {
      "cell_type": "code",
      "source": "print(\"\"\"\nPython Support Three Types Of Programming\n          1.Structured Programming\n          2.Object-Oriented Programming\n          3.Functional Programming\n\"\"\")",
      "metadata": {
        "trusted": true
      },
      "execution_count": 8,
      "outputs": [
        {
          "name": "stdout",
          "text": "\nPython Support Three Types Of Programming\n          1.Structured Programming\n          2.Object-Oriented Programming\n          3.Functional Programming\n\n",
          "output_type": "stream"
        }
      ]
    },
    {
      "cell_type": "markdown",
      "source": "#Q3. Is Python case sensitive when dealing with identifiers? ",
      "metadata": {}
    },
    {
      "cell_type": "code",
      "source": "print(\"\"\"\nPython Is Case Sensitive Language And When Dealing With Identifiers Its Applicable Too.\n\n\"\"\")",
      "metadata": {
        "trusted": true
      },
      "execution_count": 6,
      "outputs": [
        {
          "name": "stdout",
          "text": "\nPython Is Case Sensitive Language And When Dealing With Identifiers Its Applicable Too.\n\n\n",
          "output_type": "stream"
        }
      ]
    },
    {
      "cell_type": "markdown",
      "source": "#Q4. What is the correct extension of the Python file? ",
      "metadata": {}
    },
    {
      "cell_type": "code",
      "source": "print(\"\"\"\nCorrect extension of the python file is: \".py\",\nexample:\"sample.py\".\n\"\"\")",
      "metadata": {
        "trusted": true
      },
      "execution_count": 7,
      "outputs": [
        {
          "name": "stdout",
          "text": "\nCorrect extension of the python file is: \".py\",\nexample:\"sample.py\"\n\n",
          "output_type": "stream"
        }
      ]
    },
    {
      "cell_type": "markdown",
      "source": "#Q5. Is Python code compiled or interpreted? ",
      "metadata": {}
    },
    {
      "cell_type": "code",
      "source": "print(\"\"\"\nPython is a interpreted language.\n\"\"\")",
      "metadata": {
        "trusted": true
      },
      "execution_count": 12,
      "outputs": [
        {
          "name": "stdout",
          "text": "\nPython is a interpreted language.\n\n",
          "output_type": "stream"
        }
      ]
    },
    {
      "cell_type": "markdown",
      "source": "#Q6. Name a few blocks of code used to define in Python language? ",
      "metadata": {}
    },
    {
      "cell_type": "code",
      "source": "print(\"\"\" \nBlocks Of Code Used To Define In Python Are:\n1.Class\n2.Function\n3.Loops\n\n\"\"\")",
      "metadata": {
        "trusted": true
      },
      "execution_count": 15,
      "outputs": [
        {
          "name": "stdout",
          "text": " \nBlocks Of Code Used To Define In Python Are:\n1.Class\n2.Function\n3.Loops\n\n\n",
          "output_type": "stream"
        }
      ]
    },
    {
      "cell_type": "markdown",
      "source": "#Q7. State a character used to give single-line comments in Python? ",
      "metadata": {}
    },
    {
      "cell_type": "code",
      "source": "print(\"\"\"\n'#' <---- This Character Is Used For Single-Line Comment In Python For Example,\n# This is multi-line print statement\n\"\"\")",
      "metadata": {
        "trusted": true
      },
      "execution_count": 19,
      "outputs": [
        {
          "name": "stdout",
          "text": "\n'#' <---- This Character Is Used For Single-Line Comment In Python For Example,\n# This is multi-line print statement\n\n",
          "output_type": "stream"
        }
      ]
    },
    {
      "cell_type": "markdown",
      "source": "#Q8. Mention functions which can help us to find the version of python that we are currently working on? ",
      "metadata": {}
    },
    {
      "cell_type": "code",
      "source": "print(\"\"\"\nFunctions Used To Check Version Of Python\n1.\n>>>from platform import python_version\n>>>print(python_version())\n\n\"function:python_version()\"\n\n2.\n>>> import sys\n>>> sys.version\n\n\"Using Method sys.version\"\n\n3.\npython -V\n\"Using Command Line\"\n\n\"\"\")",
      "metadata": {
        "trusted": true
      },
      "execution_count": 22,
      "outputs": [
        {
          "name": "stdout",
          "text": "\nFunctions Used To Check Version Of Python\n1.\n>>>from platform import python_version\n>>>print(python_version())\n\n\"function:python_version()\"\n\n2.\n>>> import sys\n>>> sys.version\n\n\"Using Method sys.version\"\n\n3.\npython -V\n\"Using Command Line\"\n\n\n",
          "output_type": "stream"
        }
      ]
    },
    {
      "cell_type": "markdown",
      "source": "#Q9. Python supports the creation of anonymous functions at runtime, using a construct called ",
      "metadata": {}
    },
    {
      "cell_type": "code",
      "source": "print(\"\"\"\nlamda\n\"\"\")",
      "metadata": {
        "trusted": true
      },
      "execution_count": 23,
      "outputs": [
        {
          "name": "stdout",
          "text": "\nlamda\n\n",
          "output_type": "stream"
        }
      ]
    },
    {
      "cell_type": "markdown",
      "source": "#Q10. What does pip stand for python? ",
      "metadata": {}
    },
    {
      "cell_type": "code",
      "source": "print(\"\"\"\npreferred installer program\n\"\"\")",
      "metadata": {
        "trusted": true
      },
      "execution_count": 25,
      "outputs": [
        {
          "name": "stdout",
          "text": "\npreferred installer program\n\n",
          "output_type": "stream"
        }
      ]
    },
    {
      "cell_type": "markdown",
      "source": "#Q11. Mention a few built-in functions in python? ",
      "metadata": {}
    },
    {
      "cell_type": "code",
      "source": "print(\"\"\"\nFew built-in function in python are as follows:\n1.print()\n2.input()\n3.type()\n4.len()\n5.sum()\n6.list()\n7.max()\n8.help()\n\"\"\")",
      "metadata": {
        "trusted": true
      },
      "execution_count": 28,
      "outputs": [
        {
          "name": "stdout",
          "text": "\nFew built-in function in python are as follows:\n1.print()\n2.input()\n3.type()\n4.len()\n5.sum()\n6.list()\n7.max()\n8.help()\n\n",
          "output_type": "stream"
        }
      ]
    },
    {
      "cell_type": "markdown",
      "source": "#Q12. What is the maximum possible length of an identifier in Python?",
      "metadata": {}
    },
    {
      "cell_type": "code",
      "source": "print(\"\"\"\nWe Can Create Unlimted length of of identifier (You Can Check Example In Next Cell)\nbut accordiong to PEP-8(Python Enhancement Proposal) layout it prevent user to break the rule and so highest possible length as per PEP-8 layout is:\n79 Character\n\"\"\")",
      "metadata": {
        "trusted": true
      },
      "execution_count": 35,
      "outputs": [
        {
          "name": "stdout",
          "text": "\nWe Can Create Unlimted length of of identifier (You Can Check Example In Next Cell)\nbut accordiong to PEP-8(Python Enhancement Proposal) layout it prevent user to break the rule and so highest possible length as per PEP-8 layout is:\n79 Character\n\n",
          "output_type": "stream"
        }
      ]
    },
    {
      "cell_type": "code",
      "source": "abcdefghijklmnopqrstuvwxyz_abcdefghijklmnopqrstuvwxyz_abcdefghijklmnopqrstuvwxyz_abcdefghijklmnopqrstuvwxyz_abcdefghijklmnopqrstuvwxyz_abcdefghijklmnopqrstuvwxyz_abcdefghijklmnopqrstuvwxyz_abcdefghijklmnopqrstuvwxyz_abcdefghijklmnopqrstuvwxyz_abcdefghijklmnopqrstuvwxyz_abcdefghijklmnopqrstuvwxyz_123456789_abcdefghijklmnopqrstuvwxyz_abcdefghijklmnopqrstuvwxyz_abcdefghijklmnopqrstuvwxyz123456789_abcdefghijklmnopqrstuvwxyz_abcdefghijklmnopqrstuvwxyz_____________________________________________________abcdefghijklmnopqrstuvwxyz_______________________________1 = 10\nprint(abcdefghijklmnopqrstuvwxyz_abcdefghijklmnopqrstuvwxyz_abcdefghijklmnopqrstuvwxyz_abcdefghijklmnopqrstuvwxyz_abcdefghijklmnopqrstuvwxyz_abcdefghijklmnopqrstuvwxyz_abcdefghijklmnopqrstuvwxyz_abcdefghijklmnopqrstuvwxyz_abcdefghijklmnopqrstuvwxyz_abcdefghijklmnopqrstuvwxyz_abcdefghijklmnopqrstuvwxyz_123456789_abcdefghijklmnopqrstuvwxyz_abcdefghijklmnopqrstuvwxyz_abcdefghijklmnopqrstuvwxyz123456789_abcdefghijklmnopqrstuvwxyz_abcdefghijklmnopqrstuvwxyz_____________________________________________________abcdefghijklmnopqrstuvwxyz_______________________________1)",
      "metadata": {
        "trusted": true
      },
      "execution_count": 34,
      "outputs": [
        {
          "name": "stdout",
          "text": "10\n",
          "output_type": "stream"
        }
      ]
    },
    {
      "cell_type": "markdown",
      "source": "#Q13. What are the benefits of using Python? ",
      "metadata": {}
    },
    {
      "cell_type": "code",
      "source": "print(\"\"\" \nBenefits of using Python are:\n1.Free and Open Source\n2.Simple and Easy To learn (helps beginners to learn programming)\n3.Portability (written once, and then it can be run anywhere)\n4.Dynamically Typed ( allocates the data type automatically during execution)\n5.Extensive library\n\n\"\"\")",
      "metadata": {
        "trusted": true
      },
      "execution_count": 36,
      "outputs": [
        {
          "name": "stdout",
          "text": " \nBenefits of using Python are:\n1.Free and Open Source\n2.Simple and Easy To learn (helps beginners to learn programming)\n3.Portability (written once, and then it can be run anywhere)\n4.Dynamically Typed ( allocates the data type automatically during execution)\n5.Extensive library\n\n\n",
          "output_type": "stream"
        }
      ]
    },
    {
      "cell_type": "markdown",
      "source": "#Q14. How is memory managed in Python? ",
      "metadata": {}
    },
    {
      "cell_type": "code",
      "source": "print(\"\"\"\nMemory in Python is managed by Python private heap space.\nAll Python objects and data structures are located in a private heap. \n\"\"\")",
      "metadata": {
        "trusted": true
      },
      "execution_count": 39,
      "outputs": [
        {
          "name": "stdout",
          "text": "\nMemory in Python is managed by Python private heap space.\nAll Python objects and data structures are located in a private heap. \n\n",
          "output_type": "stream"
        }
      ]
    },
    {
      "cell_type": "code",
      "source": "#Q15. How to install Python on Windows and set path variables? ",
      "metadata": {
        "trusted": true
      },
      "execution_count": 40,
      "outputs": []
    },
    {
      "cell_type": "code",
      "source": "print(\"\"\"\nIt is simple task and can be done by downloading setup of Python from its official website.\nand then install it.\n\"https://www.python.org/\"\n\nfor installation we can also check official documentation:\n\"https://docs.python.org/3/using/windows.html\"\n\"\"\")",
      "metadata": {
        "trusted": true
      },
      "execution_count": 41,
      "outputs": [
        {
          "name": "stdout",
          "text": "\nIt is simple task and can be done by downloading setup of Python from its official website.\nand then install it.\n\"https://www.python.org/\"\n\nfor installation we can also check official documentation:\n\"https://docs.python.org/3/using/windows.html\"\n\n",
          "output_type": "stream"
        }
      ]
    },
    {
      "cell_type": "markdown",
      "source": "#Q16. Is indentation required in python? ",
      "metadata": {}
    },
    {
      "cell_type": "code",
      "source": "print(\"\"\"\nTo Define Block Statement In Python Indentation is required.\n\"\"\")",
      "metadata": {
        "trusted": true
      },
      "execution_count": 42,
      "outputs": [
        {
          "name": "stdout",
          "text": "\nTo Define Block Statement In Python Indentation is required.\n\n",
          "output_type": "stream"
        }
      ]
    },
    {
      "cell_type": "code",
      "source": "",
      "metadata": {},
      "execution_count": null,
      "outputs": []
    }
  ]
}