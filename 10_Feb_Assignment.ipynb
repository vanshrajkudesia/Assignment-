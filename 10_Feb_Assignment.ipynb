{
 "cells": [
  {
   "cell_type": "markdown",
   "id": "d43c9a56",
   "metadata": {},
   "source": [
    "Q1. Which function is used to open a file? What are the different modes of opening a file? Explain each mode\n",
    "of file opening."
   ]
  },
  {
   "cell_type": "code",
   "execution_count": 2,
   "id": "b7adc4f0",
   "metadata": {},
   "outputs": [
    {
     "name": "stdout",
     "output_type": "stream",
     "text": [
      "\n",
      "open() function is used to open a file \n",
      "\n",
      "There are many modes of opening a file and some of them are mention below:\n",
      "'r'       open for reading (default)\n",
      "'w'       open for writing, truncating the file first\n",
      "'x'       create a new file and open it for writing\n",
      "'a'       open for writing, appending to the end of the file if it exists\n",
      "'b'       binary mode\n",
      "'t'       text mode (default)\n",
      "'+'       open a disk file for updating (reading and writing)\n",
      "'U'       universal newline mode (deprecated)\n",
      "\n",
      "For Example: Check Next Cell\n",
      "\n"
     ]
    }
   ],
   "source": [
    "print(\"\"\"\n",
    "open() function is used to open a file \n",
    "\n",
    "There are many modes of opening a file and some of them are mention below:\n",
    "'r'       open for reading (default)\n",
    "'w'       open for writing, truncating the file first\n",
    "'x'       create a new file and open it for writing\n",
    "'a'       open for writing, appending to the end of the file if it exists\n",
    "'b'       binary mode\n",
    "'t'       text mode (default)\n",
    "'+'       open a disk file for updating (reading and writing)\n",
    "'U'       universal newline mode (deprecated)\n",
    "\n",
    "For Example: Check Next Cell\n",
    "\"\"\")\n"
   ]
  },
  {
   "cell_type": "code",
   "execution_count": 3,
   "id": "019cf34f",
   "metadata": {},
   "outputs": [
    {
     "data": {
      "text/plain": [
       "'C:\\\\Users\\\\Vansh\\\\bhaikiskills'"
      ]
     },
     "execution_count": 3,
     "metadata": {},
     "output_type": "execute_result"
    }
   ],
   "source": [
    "pwd"
   ]
  },
  {
   "cell_type": "code",
   "execution_count": 10,
   "id": "51885344",
   "metadata": {},
   "outputs": [
    {
     "name": "stdout",
     "output_type": "stream",
     "text": [
      "[Errno 2] No such file or directory: 'new.txt'\n"
     ]
    }
   ],
   "source": [
    "try:\n",
    "    f = open(\"new.txt\",\"r\")\n",
    "    print(f.read())\n",
    "    f.close()\n",
    "except Exception as e:\n",
    "    print(e)"
   ]
  },
  {
   "cell_type": "code",
   "execution_count": 11,
   "id": "8fbbce78",
   "metadata": {},
   "outputs": [],
   "source": [
    "# This gives error because file is not created ,for reading file should be exist in that directory\n"
   ]
  },
  {
   "cell_type": "code",
   "execution_count": 37,
   "id": "ef90a53d",
   "metadata": {},
   "outputs": [],
   "source": [
    "f = open(\"new.txt\",\"w+\")\n",
    "f.write(\"Hello, I am Written By Python Program\")\n",
    "f.flush()  #flush the data from buffer to file\n",
    "f.close()\n",
    "\n"
   ]
  },
  {
   "cell_type": "code",
   "execution_count": 44,
   "id": "476a97fc",
   "metadata": {},
   "outputs": [
    {
     "name": "stdout",
     "output_type": "stream",
     "text": [
      "Hello, I am Written By Python Program Hello 2 Hello 2 Hello 2 Hello 2 Hello 2\n"
     ]
    }
   ],
   "source": [
    "f1 = open(\"new.txt\",\"r+\") #open in read mode and we can also update it,working similar to append mode\n",
    "a=f1.read()\n",
    "print(a)\n",
    "f1.write(\" Hello 2\")  \n",
    "f1.close()"
   ]
  },
  {
   "cell_type": "code",
   "execution_count": 57,
   "id": "57eeb361",
   "metadata": {},
   "outputs": [
    {
     "name": "stdout",
     "output_type": "stream",
     "text": [
      " Hi  Hi  Hi  Hi  Hi  Hi  Hi  Hi  Hi  Hi  Hi  Hi \n"
     ]
    }
   ],
   "source": [
    "f2 = open(\"new1.txt\",\"a\")\n",
    "f2.write(\" Hi \")\n",
    "f2.close()\n",
    "\n",
    "with open(\"new1.txt\",\"r\") as f:\n",
    "    print(f.read())"
   ]
  },
  {
   "cell_type": "code",
   "execution_count": null,
   "id": "54c3f55f",
   "metadata": {},
   "outputs": [],
   "source": []
  },
  {
   "cell_type": "markdown",
   "id": "592f9101",
   "metadata": {},
   "source": [
    "Q2. Why close() function is used? Why is it important to close a file?"
   ]
  },
  {
   "cell_type": "code",
   "execution_count": 64,
   "id": "4d7bed41",
   "metadata": {},
   "outputs": [
    {
     "name": "stdout",
     "output_type": "stream",
     "text": [
      "\n",
      "The close() function is used to close an open file. You should always close your files, in some cases,\n",
      "due to buffering, \n",
      "changes made to a file may not show until you close the file.\n",
      "\n",
      "How to close file Already Implemented in the above cells\n",
      "\n",
      "and when we use\n",
      "with open(\"abc.txt\",\"w\") as file:\n",
      "    f.write(\"hi\")\n",
      "\n",
      "It don't require close because 'with' statement closes the file\n",
      "\n",
      "\n"
     ]
    }
   ],
   "source": [
    "print(\"\"\"\n",
    "The close() function is used to close an open file. You should always close your files, in some cases,\n",
    "due to buffering, \n",
    "changes made to a file may not show until you close the file.\n",
    "\n",
    "How to close file Already Implemented in the above cells\n",
    "\n",
    "and when we use\n",
    "with open(\"abc.txt\",\"w\") as file:\n",
    "    f.write(\"hi\")\n",
    "\n",
    "It don't require close because 'with' statement closes the file\n",
    "\n",
    "\"\"\")"
   ]
  },
  {
   "cell_type": "code",
   "execution_count": null,
   "id": "9e977176",
   "metadata": {},
   "outputs": [],
   "source": []
  },
  {
   "cell_type": "markdown",
   "id": "9f61295d",
   "metadata": {},
   "source": [
    "Q3. Write a python program to create a text file. Write ‘I want to become a Data Scientist’ in that file. Then\n",
    "close the file. Open this file and read the content of the file."
   ]
  },
  {
   "cell_type": "code",
   "execution_count": 65,
   "id": "dd9b5561",
   "metadata": {},
   "outputs": [],
   "source": [
    "file = open(\"MyGoal.txt\",\"w\")\n",
    "file.write(\"‘I want to become a Data Scientist’\")\n",
    "file.close()"
   ]
  },
  {
   "cell_type": "code",
   "execution_count": 66,
   "id": "f01acbb7",
   "metadata": {},
   "outputs": [
    {
     "name": "stdout",
     "output_type": "stream",
     "text": [
      "‘I want to become a Data Scientist’\n"
     ]
    }
   ],
   "source": [
    "file1 = open(\"MyGoal.txt\",\"r\")\n",
    "data = file1.read()\n",
    "print(data)\n",
    "file1.close()"
   ]
  },
  {
   "cell_type": "code",
   "execution_count": null,
   "id": "0d736675",
   "metadata": {},
   "outputs": [],
   "source": []
  },
  {
   "cell_type": "markdown",
   "id": "b3a852d1",
   "metadata": {},
   "source": [
    "Q4. Explain the following with python code: read(), readline() and readlines()."
   ]
  },
  {
   "cell_type": "code",
   "execution_count": 91,
   "id": "65368c74",
   "metadata": {},
   "outputs": [],
   "source": [
    "file = open(\"Computer_Architecture.txt\",\"w\")\n",
    " \n",
    "data =\"\"\"Reduced Instruction Set Architecture (RISC):\n",
    "The main idea behind this is to make hardware simpler by using an instruction set  \\\n",
    "composed of a few basic steps for loading, evaluating, and storing operations just\\n \\\n",
    "like a load command will load data, a store command will store the data.\\n\\n \\\n",
    "\n",
    "Complex Instruction Set Architecture (CISC): \\n \\\n",
    "The main idea is that a single instruction will do all loading, evaluating, and\\n \\\n",
    "storing operations just like a multiplication command will do stuff like loading data,\\n \\\n",
    "evaluating, and storing it, hence it’s complex.\\n \"\"\"\n",
    "\n",
    "\n",
    "file.write(data)\n",
    "file.close()"
   ]
  },
  {
   "cell_type": "code",
   "execution_count": 104,
   "id": "2ecb3e01",
   "metadata": {},
   "outputs": [
    {
     "name": "stdout",
     "output_type": "stream",
     "text": [
      "\n",
      "\n",
      "---------------reading complete text----------------\n",
      "\n",
      "Reduced Instruction Set Architecture (RISC):\n",
      "The main idea behind this is to make hardware simpler by using an instruction set  composed of a few basic steps for loading, evaluating, and storing operations just\n",
      " like a load command will load data, a store command will store the data.\n",
      "\n",
      " \n",
      "Complex Instruction Set Architecture (CISC): \n",
      " The main idea is that a single instruction will do all loading, evaluating, and\n",
      " storing operations just like a multiplication command will do stuff like loading data,\n",
      " evaluating, and storing it, hence it’s complex.\n",
      " \n",
      "\n",
      "\n",
      "---------------reading line by line-----------------\n",
      "\n",
      "Reduced Instruction Set Architecture (RISC):\n",
      "\n",
      "The main idea behind this is to make hardware simpler by using an instruction set  composed of a few basic steps for loading, evaluating, and storing operations just\n",
      "\n",
      " like a load command will load data, a store command will store the data.\n",
      "\n",
      "\n",
      "\n",
      "---------------reading lines-----------------\n",
      "\n",
      "['Reduced Instruction Set Architecture (RISC):\\n', 'The main idea behind this is to make hardware simpler by using an instruction set  composed of a few basic steps for loading, evaluating, and storing operations just\\n', ' like a load command will load data, a store command will store the data.\\n', '\\n', ' \\n', 'Complex Instruction Set Architecture (CISC): \\n', ' The main idea is that a single instruction will do all loading, evaluating, and\\n', ' storing operations just like a multiplication command will do stuff like loading data,\\n', ' evaluating, and storing it, hence it’s complex.\\n', ' ']\n"
     ]
    }
   ],
   "source": [
    "file = open(\"Computer_Architecture.txt\",\"r\")\n",
    "print(\"\\n\\n---------------reading complete text----------------\\n\")\n",
    "a = file.read()\n",
    "print(a)\n",
    "\n",
    "file.seek(0)\n",
    "\n",
    "print(\"\\n\\n---------------reading line by line-----------------\\n\")\n",
    "line1 = file.readline()\n",
    "line2 = file.readline()\n",
    "line3 = file.readline()\n",
    "print(line1)\n",
    "print(line2)\n",
    "print(line3)\n",
    "\n",
    "file.seek(0)\n",
    "\n",
    "print(\"\\n\\n---------------reading lines-----------------\\n\")\n",
    "lines = file.readlines()\n",
    "print(lines) #return list of string of lines ends with newline character '\\n'\\\n",
    "\n",
    "file.close()\n",
    "\n"
   ]
  },
  {
   "cell_type": "code",
   "execution_count": null,
   "id": "5f6ffa08",
   "metadata": {},
   "outputs": [],
   "source": []
  },
  {
   "cell_type": "markdown",
   "id": "02bc51d4",
   "metadata": {},
   "source": [
    "Q5. Explain why with statement is used with open(). What is the advantage of using with statement and\n",
    "open() together?"
   ]
  },
  {
   "cell_type": "code",
   "execution_count": 105,
   "id": "a14e4a2b",
   "metadata": {},
   "outputs": [
    {
     "name": "stdout",
     "output_type": "stream",
     "text": [
      "\n",
      "The with statement works with the open() function to open a file.\n",
      "\n",
      "Unlike open() where you have to close the file with the close() method, the with statement closes the file for you without you telling it to.\n",
      "\n",
      "This is because the with statement calls 2 built-in methods behind the scene – __enter()__ and __exit()__.\n",
      "\n",
      "The __exit()__ method closes the file when the operation you specify is done.\n",
      "\n",
      "\n",
      "Advantage:\n",
      "Using 'with' statement with 'open()' closes the file and we don't need to write\n",
      "seprate line for it i.e 'file.close()'\n",
      "\n",
      "for Exmaple:\n",
      "with open(\"new1.txt\",\"r\") as f:\n",
      "    print(f.read())\n",
      "\n"
     ]
    }
   ],
   "source": [
    "print(\"\"\"\n",
    "The with statement works with the open() function to open a file.\n",
    "\n",
    "Unlike open() where you have to close the file with the close() method, the with statement closes the file for you without you telling it to.\n",
    "\n",
    "This is because the with statement calls 2 built-in methods behind the scene – __enter()__ and __exit()__.\n",
    "\n",
    "The __exit()__ method closes the file when the operation you specify is done.\n",
    "\n",
    "\n",
    "Advantage:\n",
    "Using 'with' statement with 'open()' closes the file and we don't need to write\n",
    "seprate line for it i.e 'file.close()'\n",
    "\n",
    "for Exmaple:\n",
    "with open(\"new1.txt\",\"r\") as f:\n",
    "    print(f.read())\n",
    "\"\"\")"
   ]
  },
  {
   "cell_type": "code",
   "execution_count": 106,
   "id": "654c36f1",
   "metadata": {},
   "outputs": [
    {
     "name": "stdout",
     "output_type": "stream",
     "text": [
      " Hi  Hi  Hi  Hi  Hi  Hi  Hi  Hi  Hi  Hi  Hi  Hi \n"
     ]
    }
   ],
   "source": [
    "with open(\"new1.txt\",\"r\") as f:\n",
    "    print(f.read())"
   ]
  },
  {
   "cell_type": "code",
   "execution_count": null,
   "id": "68a44549",
   "metadata": {},
   "outputs": [],
   "source": []
  },
  {
   "cell_type": "markdown",
   "id": "8998a149",
   "metadata": {},
   "source": [
    "Q6. Explain the write() and writelines() functions. Give a suitable example."
   ]
  },
  {
   "cell_type": "code",
   "execution_count": 108,
   "id": "d351d966",
   "metadata": {},
   "outputs": [
    {
     "name": "stdout",
     "output_type": "stream",
     "text": [
      "\n",
      "The write() function will write the content in the file without adding \n",
      "any extra characters.\n",
      "\n",
      "while, The writelines() function will write the content of list into file\n",
      "\n",
      "Both function don't and newline character '\\n'\n",
      "\n"
     ]
    }
   ],
   "source": [
    "print(\"\"\"\n",
    "The write() function will write the content in the file without adding \n",
    "any extra characters.\n",
    "\n",
    "while, The writelines() function will write the content of list into file\n",
    "\n",
    "Both function don't and newline character '\\\\n'\n",
    "\"\"\")"
   ]
  },
  {
   "cell_type": "code",
   "execution_count": 119,
   "id": "aac3499c",
   "metadata": {},
   "outputs": [
    {
     "name": "stdout",
     "output_type": "stream",
     "text": [
      "Hello, I am come from python program\n",
      "line2\n",
      "line3 line not change(newline character is not written after line3)\n",
      "line changed\n"
     ]
    }
   ],
   "source": [
    "with open(\"new3.txt\",\"w\") as f:\n",
    "    f.write(\"Hello, I am come from python program\\nline2\\nline3 line not change(newline character is not written after line3)\\nline changed\")\n",
    "\n",
    "    \n",
    "with open(\"new3.txt\",\"r\") as f:\n",
    "    print(f.read())"
   ]
  },
  {
   "cell_type": "code",
   "execution_count": 121,
   "id": "e57447ae",
   "metadata": {},
   "outputs": [
    {
     "name": "stdout",
     "output_type": "stream",
     "text": [
      "Hello, I am come from python program\n",
      "line2\n",
      "line3 line not change(newline character is not written after line3)\n",
      "line changed\n"
     ]
    }
   ],
   "source": [
    "with open(\"new3.txt\",\"w\") as f:\n",
    "    l =['Hello, I am come from python program\\n','line2\\n','line3',' line not change(newline character is not written after line3)\\n','line changed']\n",
    "    f.writelines(l)\n",
    "\n",
    "    \n",
    "with open(\"new3.txt\",\"r\") as f:\n",
    "    print(f.read())"
   ]
  },
  {
   "cell_type": "code",
   "execution_count": null,
   "id": "d2bfd6a2",
   "metadata": {},
   "outputs": [],
   "source": []
  }
 ],
 "metadata": {
  "kernelspec": {
   "display_name": "Python 3 (ipykernel)",
   "language": "python",
   "name": "python3"
  },
  "language_info": {
   "codemirror_mode": {
    "name": "ipython",
    "version": 3
   },
   "file_extension": ".py",
   "mimetype": "text/x-python",
   "name": "python",
   "nbconvert_exporter": "python",
   "pygments_lexer": "ipython3",
   "version": "3.9.12"
  }
 },
 "nbformat": 4,
 "nbformat_minor": 5
}
