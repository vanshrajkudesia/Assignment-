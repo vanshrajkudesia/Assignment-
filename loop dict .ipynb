{
 "cells": [
  {
   "cell_type": "code",
   "execution_count": 1,
   "id": "143e67a7-f8c2-423a-85ce-7b0f4adcb3d7",
   "metadata": {},
   "outputs": [],
   "source": [
    "d ={}"
   ]
  },
  {
   "cell_type": "code",
   "execution_count": 3,
   "id": "0441cc8e-c643-4ce9-91a8-7e1fa40a0bba",
   "metadata": {},
   "outputs": [
    {
     "data": {
      "text/plain": [
       "dict"
      ]
     },
     "execution_count": 3,
     "metadata": {},
     "output_type": "execute_result"
    }
   ],
   "source": [
    "type(d)"
   ]
  },
  {
   "cell_type": "code",
   "execution_count": 4,
   "id": "90087c65-c6a0-49ed-ac7f-3f3bce880316",
   "metadata": {},
   "outputs": [],
   "source": [
    "d1 = {'key':'vansh'}"
   ]
  },
  {
   "cell_type": "code",
   "execution_count": 5,
   "id": "fc8af33a-3125-4e83-9de0-27f046e3fc6e",
   "metadata": {},
   "outputs": [
    {
     "data": {
      "text/plain": [
       "{'key': 'vansh'}"
      ]
     },
     "execution_count": 5,
     "metadata": {},
     "output_type": "execute_result"
    }
   ],
   "source": [
    "d1\n"
   ]
  },
  {
   "cell_type": "code",
   "execution_count": 6,
   "id": "2524b56f-d66a-4d2c-80f2-6413dd48bc12",
   "metadata": {},
   "outputs": [],
   "source": [
    "d2={'name':'vanshraj','email':'vanshrajkudesia@gmail.com','number':8979900233}"
   ]
  },
  {
   "cell_type": "code",
   "execution_count": 7,
   "id": "398ec2b1-6003-455f-bdf8-e5569e008c30",
   "metadata": {},
   "outputs": [
    {
     "data": {
      "text/plain": [
       "{'name': 'vanshraj',\n",
       " 'email': 'vanshrajkudesia@gmail.com',\n",
       " 'number': 8979900233}"
      ]
     },
     "execution_count": 7,
     "metadata": {},
     "output_type": "execute_result"
    }
   ],
   "source": [
    "d2"
   ]
  },
  {
   "cell_type": "code",
   "execution_count": 13,
   "id": "a5a21159-74a2-4402-92e3-25b772053dba",
   "metadata": {},
   "outputs": [],
   "source": [
    "d3 = {234:\"vansh\", '_wae' :\"vrk\", True :12345}"
   ]
  },
  {
   "cell_type": "code",
   "execution_count": 14,
   "id": "5b80c4e1-2428-4169-96f2-fa0c57e59737",
   "metadata": {},
   "outputs": [
    {
     "data": {
      "text/plain": [
       "{234: 'vansh', '_wae': 'vrk', True: 12345}"
      ]
     },
     "execution_count": 14,
     "metadata": {},
     "output_type": "execute_result"
    }
   ],
   "source": [
    "d3"
   ]
  },
  {
   "cell_type": "code",
   "execution_count": 15,
   "id": "ecbfb122-ccf6-4d8b-be75-98f87ddd615d",
   "metadata": {},
   "outputs": [
    {
     "data": {
      "text/plain": [
       "'vansh'"
      ]
     },
     "execution_count": 15,
     "metadata": {},
     "output_type": "execute_result"
    }
   ],
   "source": [
    "d3[234]"
   ]
  },
  {
   "cell_type": "code",
   "execution_count": 19,
   "id": "250dc624-5c5f-4b93-aa35-3beab9d9ef9e",
   "metadata": {},
   "outputs": [
    {
     "data": {
      "text/plain": [
       "12345"
      ]
     },
     "execution_count": 19,
     "metadata": {},
     "output_type": "execute_result"
    }
   ],
   "source": [
    "d3[True]"
   ]
  },
  {
   "cell_type": "code",
   "execution_count": 20,
   "id": "26811349-3277-488b-8e18-8d7bae4835dd",
   "metadata": {},
   "outputs": [
    {
     "data": {
      "text/plain": [
       "12345"
      ]
     },
     "execution_count": 20,
     "metadata": {},
     "output_type": "execute_result"
    }
   ],
   "source": [
    "d3[1]"
   ]
  },
  {
   "cell_type": "code",
   "execution_count": 23,
   "id": "bb0e2dc1-5867-4260-a92e-2975aaba2436",
   "metadata": {},
   "outputs": [],
   "source": [
    "d4 = {'name':'vansh', 'mail_id':\"vrk@gamil.com\", \"name\":\"vanshraj\"}"
   ]
  },
  {
   "cell_type": "code",
   "execution_count": 25,
   "id": "462b5eb2-052b-405c-8f5e-7fbc074268ff",
   "metadata": {},
   "outputs": [
    {
     "data": {
      "text/plain": [
       "'vanshraj'"
      ]
     },
     "execution_count": 25,
     "metadata": {},
     "output_type": "execute_result"
    }
   ],
   "source": [
    "d4['name']"
   ]
  },
  {
   "cell_type": "code",
   "execution_count": 26,
   "id": "352ab43d-2571-4ede-a7c7-41d9b5e728f2",
   "metadata": {},
   "outputs": [],
   "source": [
    "d5 = {'company':\"bhaikiskills\", \"course\":['web dev', 'data science', 'java with dsa system design']}"
   ]
  },
  {
   "cell_type": "code",
   "execution_count": 27,
   "id": "5df7c90d-cd00-4109-b6c0-7ffa02cb2fbb",
   "metadata": {},
   "outputs": [
    {
     "data": {
      "text/plain": [
       "{'company': 'bhaikiskills',\n",
       " 'course': ['web dev', 'data science', 'java with dsa system design']}"
      ]
     },
     "execution_count": 27,
     "metadata": {},
     "output_type": "execute_result"
    }
   ],
   "source": [
    "d5"
   ]
  },
  {
   "cell_type": "code",
   "execution_count": 29,
   "id": "42445950-8866-4037-af4f-717dedbea485",
   "metadata": {},
   "outputs": [
    {
     "data": {
      "text/plain": [
       "['web dev', 'data science', 'java with dsa system design']"
      ]
     },
     "execution_count": 29,
     "metadata": {},
     "output_type": "execute_result"
    }
   ],
   "source": [
    "d5['course']\n"
   ]
  },
  {
   "cell_type": "code",
   "execution_count": 30,
   "id": "4cb555f2-1aa7-4887-bb07-138ee4e26a2b",
   "metadata": {},
   "outputs": [
    {
     "data": {
      "text/plain": [
       "'java with dsa system design'"
      ]
     },
     "execution_count": 30,
     "metadata": {},
     "output_type": "execute_result"
    }
   ],
   "source": [
    "d5['course'][2]"
   ]
  },
  {
   "cell_type": "code",
   "execution_count": 39,
   "id": "3aa2fce4-1718-433c-a4e6-3edf42714199",
   "metadata": {},
   "outputs": [],
   "source": [
    "d6= {'number':[2,34,3,34,34], \"assignment\":(1,2,3,4,5,5), \"launch_date\":{28,12,14},\"class_time\":{\"web_dev\":8 ,\"Data science master\":8, \"java with dsa and system design\":7}}"
   ]
  },
  {
   "cell_type": "code",
   "execution_count": 40,
   "id": "f30d2010-306b-4078-8a95-bc4ec79d64b5",
   "metadata": {},
   "outputs": [
    {
     "data": {
      "text/plain": [
       "{'number': [2, 34, 3, 34, 34],\n",
       " 'assignment': (1, 2, 3, 4, 5, 5),\n",
       " 'launch_date': {12, 14, 28},\n",
       " 'class_time': {'web_dev': 8,\n",
       "  'Data science master': 8,\n",
       "  'java with dsa and system design': 7}}"
      ]
     },
     "execution_count": 40,
     "metadata": {},
     "output_type": "execute_result"
    }
   ],
   "source": [
    "d6"
   ]
  },
  {
   "cell_type": "code",
   "execution_count": 41,
   "id": "c82ad0c2-522d-444d-b788-fad207ef7914",
   "metadata": {},
   "outputs": [
    {
     "data": {
      "text/plain": [
       "7"
      ]
     },
     "execution_count": 41,
     "metadata": {},
     "output_type": "execute_result"
    }
   ],
   "source": [
    "d6['class_time']['java with dsa and system design']"
   ]
  },
  {
   "cell_type": "code",
   "execution_count": 42,
   "id": "f009243f-cfc2-4621-b9e0-51371592e07e",
   "metadata": {},
   "outputs": [
    {
     "data": {
      "text/plain": [
       "{'number': [2, 34, 3, 34, 34],\n",
       " 'assignment': (1, 2, 3, 4, 5, 5),\n",
       " 'launch_date': {12, 14, 28},\n",
       " 'class_time': {'web_dev': 8,\n",
       "  'Data science master': 8,\n",
       "  'java with dsa and system design': 7}}"
      ]
     },
     "execution_count": 42,
     "metadata": {},
     "output_type": "execute_result"
    }
   ],
   "source": [
    "d6"
   ]
  },
  {
   "cell_type": "code",
   "execution_count": 43,
   "id": "055d5e2b-cd16-4316-bec6-f1d760ace75c",
   "metadata": {},
   "outputs": [],
   "source": [
    "d6['mentor']=['vanshraj kudesia','sudh','krish','anurag','hayd']"
   ]
  },
  {
   "cell_type": "code",
   "execution_count": 44,
   "id": "02ede64b-ee49-4f76-89ec-985ca2a1d837",
   "metadata": {},
   "outputs": [
    {
     "data": {
      "text/plain": [
       "{'number': [2, 34, 3, 34, 34],\n",
       " 'assignment': (1, 2, 3, 4, 5, 5),\n",
       " 'launch_date': {12, 14, 28},\n",
       " 'class_time': {'web_dev': 8,\n",
       "  'Data science master': 8,\n",
       "  'java with dsa and system design': 7},\n",
       " 'mentor': ['vanshraj kudesia', 'sudh', 'krish', 'anurag', 'hayd']}"
      ]
     },
     "execution_count": 44,
     "metadata": {},
     "output_type": "execute_result"
    }
   ],
   "source": [
    "d6"
   ]
  },
  {
   "cell_type": "code",
   "execution_count": 47,
   "id": "73dcb75b-0994-4472-ae23-93f9eb6500eb",
   "metadata": {},
   "outputs": [],
   "source": [
    "d6['number'] = [2,34,3,34,34]"
   ]
  },
  {
   "cell_type": "code",
   "execution_count": 48,
   "id": "fc1355c0-f93d-42b0-9f5e-121b5dce7360",
   "metadata": {},
   "outputs": [
    {
     "data": {
      "text/plain": [
       "{'number': [2, 34, 3, 34, 34],\n",
       " 'assignment': (1, 2, 3, 4, 5, 5),\n",
       " 'launch_date': {12, 14, 28},\n",
       " 'class_time': {'web_dev': 8,\n",
       "  'Data science master': 8,\n",
       "  'java with dsa and system design': 7},\n",
       " 'mentor': ['vanshraj kudesia', 'sudh', 'krish', 'anurag', 'hayd']}"
      ]
     },
     "execution_count": 48,
     "metadata": {},
     "output_type": "execute_result"
    }
   ],
   "source": [
    "d6"
   ]
  },
  {
   "cell_type": "code",
   "execution_count": 49,
   "id": "1f20a316-3828-4fbf-9053-745626c3b630",
   "metadata": {},
   "outputs": [],
   "source": [
    "del d6['number']"
   ]
  },
  {
   "cell_type": "code",
   "execution_count": 50,
   "id": "76835bcd-da71-414c-bac4-f2ebb56f4c8e",
   "metadata": {},
   "outputs": [
    {
     "data": {
      "text/plain": [
       "{'assignment': (1, 2, 3, 4, 5, 5),\n",
       " 'launch_date': {12, 14, 28},\n",
       " 'class_time': {'web_dev': 8,\n",
       "  'Data science master': 8,\n",
       "  'java with dsa and system design': 7},\n",
       " 'mentor': ['vanshraj kudesia', 'sudh', 'krish', 'anurag', 'hayd']}"
      ]
     },
     "execution_count": 50,
     "metadata": {},
     "output_type": "execute_result"
    }
   ],
   "source": [
    "d6"
   ]
  },
  {
   "cell_type": "code",
   "execution_count": 53,
   "id": "837278be-ab19-4908-ba89-144bada8c861",
   "metadata": {},
   "outputs": [
    {
     "data": {
      "text/plain": [
       "['assignment', 'launch_date', 'class_time', 'mentor']"
      ]
     },
     "execution_count": 53,
     "metadata": {},
     "output_type": "execute_result"
    }
   ],
   "source": [
    "list(d6.keys())"
   ]
  },
  {
   "cell_type": "code",
   "execution_count": 54,
   "id": "c010af46-ec33-496b-b3f8-17a90d9b2147",
   "metadata": {},
   "outputs": [
    {
     "data": {
      "text/plain": [
       "[(1, 2, 3, 4, 5, 5),\n",
       " {12, 14, 28},\n",
       " {'web_dev': 8,\n",
       "  'Data science master': 8,\n",
       "  'java with dsa and system design': 7},\n",
       " ['vanshraj kudesia', 'sudh', 'krish', 'anurag', 'hayd']]"
      ]
     },
     "execution_count": 54,
     "metadata": {},
     "output_type": "execute_result"
    }
   ],
   "source": [
    "list(d6.values())"
   ]
  },
  {
   "cell_type": "code",
   "execution_count": 56,
   "id": "24c74c9d-6900-47a6-aad9-fef6216e6424",
   "metadata": {},
   "outputs": [
    {
     "data": {
      "text/plain": [
       "[('assignment', (1, 2, 3, 4, 5, 5)),\n",
       " ('launch_date', {12, 14, 28}),\n",
       " ('class_time',\n",
       "  {'web_dev': 8,\n",
       "   'Data science master': 8,\n",
       "   'java with dsa and system design': 7}),\n",
       " ('mentor', ['vanshraj kudesia', 'sudh', 'krish', 'anurag', 'hayd'])]"
      ]
     },
     "execution_count": 56,
     "metadata": {},
     "output_type": "execute_result"
    }
   ],
   "source": [
    "list(d6.items())"
   ]
  },
  {
   "cell_type": "code",
   "execution_count": 59,
   "id": "89a24789-6902-457c-ac89-fcfab46ce6ca",
   "metadata": {},
   "outputs": [
    {
     "data": {
      "text/plain": [
       "(1, 2, 3, 4, 5, 5)"
      ]
     },
     "execution_count": 59,
     "metadata": {},
     "output_type": "execute_result"
    }
   ],
   "source": [
    "d6.pop('assignment')"
   ]
  },
  {
   "cell_type": "code",
   "execution_count": 60,
   "id": "b3c009e8-fa16-4b59-bfaf-97479b7dbc76",
   "metadata": {},
   "outputs": [
    {
     "data": {
      "text/plain": [
       "{'launch_date': {12, 14, 28},\n",
       " 'class_time': {'web_dev': 8,\n",
       "  'Data science master': 8,\n",
       "  'java with dsa and system design': 7},\n",
       " 'mentor': ['vanshraj kudesia', 'sudh', 'krish', 'anurag', 'hayd']}"
      ]
     },
     "execution_count": 60,
     "metadata": {},
     "output_type": "execute_result"
    }
   ],
   "source": [
    "d6"
   ]
  },
  {
   "cell_type": "code",
   "execution_count": 65,
   "id": "1b4c7c2b-5fe3-4725-9bf0-69b516f02d5e",
   "metadata": {},
   "outputs": [
    {
     "name": "stdin",
     "output_type": "stream",
     "text": [
      "Enter your marks:  100\n"
     ]
    },
    {
     "name": "stdout",
     "output_type": "stream",
     "text": [
      "You will be a part of A0 batch\n"
     ]
    }
   ],
   "source": [
    "marks =int(input(\"Enter your marks: \"))\n",
    "\n",
    "if marks >=80:\n",
    "    print(\"You will be a part of A0 batch\")\n",
    "elif marks>=60 and marks <80:\n",
    "    print(\"You will be a part of A1 batch\")\n",
    "elif marks>=40 and marks<60:\n",
    "    print(\"You will be a part of A2 batch\")\n",
    "else:\n",
    "    print(\"You will be a part of A3 batch\")\n"
   ]
  },
  {
   "cell_type": "code",
   "execution_count": 63,
   "id": "2103ef86-5a1c-4e77-b52d-5ae85cc110e2",
   "metadata": {},
   "outputs": [
    {
     "data": {
      "text/plain": [
       "False"
      ]
     },
     "execution_count": 63,
     "metadata": {},
     "output_type": "execute_result"
    }
   ],
   "source": [
    "10>=80"
   ]
  },
  {
   "cell_type": "code",
   "execution_count": 66,
   "id": "a6e87fbc-303d-473d-9d26-1dd20c61cff4",
   "metadata": {},
   "outputs": [
    {
     "data": {
      "text/plain": [
       "int"
      ]
     },
     "execution_count": 66,
     "metadata": {},
     "output_type": "execute_result"
    }
   ],
   "source": [
    "type(marks)"
   ]
  },
  {
   "cell_type": "code",
   "execution_count": 70,
   "id": "5bb0932d-0d3d-40cb-b812-e9f0d7129724",
   "metadata": {},
   "outputs": [
    {
     "name": "stdin",
     "output_type": "stream",
     "text": [
      "0 4\n"
     ]
    },
    {
     "data": {
      "text/plain": [
       "'4'"
      ]
     },
     "execution_count": 70,
     "metadata": {},
     "output_type": "execute_result"
    }
   ],
   "source": [
    "input(int())"
   ]
  },
  {
   "cell_type": "code",
   "execution_count": 72,
   "id": "0cf349c9-9873-4b7b-a9cf-7d019099df95",
   "metadata": {},
   "outputs": [
    {
     "name": "stdin",
     "output_type": "stream",
     "text": [
      "Enter Price: 10000\n"
     ]
    },
    {
     "name": "stdout",
     "output_type": "stream",
     "text": [
      "I will not purchase\n"
     ]
    }
   ],
   "source": [
    "price = int(input(\"Enter Price:\"))\n",
    "if price >1000:\n",
    "    print(\"I will not purchase\")\n",
    "else:\n",
    "    print(\"I will purchase\")\n"
   ]
  },
  {
   "cell_type": "code",
   "execution_count": 77,
   "id": "32428720-25c1-470e-8e1a-f89b4751cd72",
   "metadata": {},
   "outputs": [
    {
     "name": "stdin",
     "output_type": "stream",
     "text": [
      "Enter Price: 20\n"
     ]
    }
   ],
   "source": [
    "price = int(input(\"Enter Price:\"))\n",
    "if price >1000:\n",
    "    print(\"I will not purchase\")\n",
    "    if price>5000:\n",
    "        print(\"This is too much\")\n",
    "    elif price <2000:\n",
    "        print(\"Its Okay\")\n",
    "elif price <1000:\n",
    "    pass\n",
    "else:\n",
    "    pass"
   ]
  },
  {
   "cell_type": "code",
   "execution_count": 78,
   "id": "6818756a-2a67-4cbc-a0ca-499ab97db843",
   "metadata": {},
   "outputs": [],
   "source": [
    "l = [1,2,3,4,5,6,7,8]"
   ]
  },
  {
   "cell_type": "code",
   "execution_count": 79,
   "id": "de989b2c-6c58-44bc-bec1-f04a80a6131d",
   "metadata": {},
   "outputs": [
    {
     "data": {
      "text/plain": [
       "2"
      ]
     },
     "execution_count": 79,
     "metadata": {},
     "output_type": "execute_result"
    }
   ],
   "source": [
    "l[0]+1"
   ]
  },
  {
   "cell_type": "code",
   "execution_count": 81,
   "id": "ea3ce196-6ecf-4ecc-9909-37317ae2ec64",
   "metadata": {},
   "outputs": [],
   "source": [
    "l1=[]"
   ]
  },
  {
   "cell_type": "code",
   "execution_count": 82,
   "id": "89fbbba6-6fdf-4861-9ac6-ce6d53edaa7f",
   "metadata": {},
   "outputs": [],
   "source": [
    "l1.append(l[0]+1)"
   ]
  },
  {
   "cell_type": "code",
   "execution_count": 83,
   "id": "910d8b33-d2b1-421e-bfc6-15570ae5e770",
   "metadata": {},
   "outputs": [
    {
     "data": {
      "text/plain": [
       "[2]"
      ]
     },
     "execution_count": 83,
     "metadata": {},
     "output_type": "execute_result"
    }
   ],
   "source": [
    "l1\n"
   ]
  },
  {
   "cell_type": "code",
   "execution_count": 87,
   "id": "83371c72-4e7a-4b7d-868d-0fadcea5c4e4",
   "metadata": {},
   "outputs": [],
   "source": [
    "l1 = []\n",
    "for i in l:\n",
    "    l1.append(i+1)"
   ]
  },
  {
   "cell_type": "code",
   "execution_count": 89,
   "id": "0bd741cc-3ddc-4fa1-82d0-ab2a406ca5b4",
   "metadata": {},
   "outputs": [
    {
     "data": {
      "text/plain": [
       "[2, 3, 4, 5, 6, 7, 8, 9]"
      ]
     },
     "execution_count": 89,
     "metadata": {},
     "output_type": "execute_result"
    }
   ],
   "source": [
    "l1"
   ]
  },
  {
   "cell_type": "code",
   "execution_count": 90,
   "id": "a5f62aed-c246-4cab-af63-8ac9dfb410ae",
   "metadata": {},
   "outputs": [],
   "source": [
    "l3 = [\"vanshraj\", \"Kudesia\",\"bhaikiskill\",\"course\"]"
   ]
  },
  {
   "cell_type": "code",
   "execution_count": 93,
   "id": "a0fa826f-46fa-4223-89cf-8654e1c07c76",
   "metadata": {},
   "outputs": [],
   "source": [
    "l4 = []\n",
    "for i in l3:\n",
    "    l4.append(i.capitalize())"
   ]
  },
  {
   "cell_type": "code",
   "execution_count": 94,
   "id": "626bfa49-16bd-4c8d-a707-7d2dc1333a3c",
   "metadata": {},
   "outputs": [
    {
     "data": {
      "text/plain": [
       "['Vanshraj', 'Kudesia', 'Bhaikiskill', 'Course']"
      ]
     },
     "execution_count": 94,
     "metadata": {},
     "output_type": "execute_result"
    }
   ],
   "source": [
    "l4"
   ]
  },
  {
   "cell_type": "code",
   "execution_count": 95,
   "id": "37279c1f-7971-424e-a844-c0cbd8222b8e",
   "metadata": {},
   "outputs": [],
   "source": [
    "l5 = [1,2,3,4,4,'vanshraj','kudesia',324,34.456,\"abc\"]"
   ]
  },
  {
   "cell_type": "code",
   "execution_count": 96,
   "id": "fb968bdb-f56a-482c-98b3-7cef09c9ef9c",
   "metadata": {},
   "outputs": [
    {
     "data": {
      "text/plain": [
       "[1, 2, 3, 4, 4, 'vanshraj', 'kudesia', 324, 34.456, 'abc']"
      ]
     },
     "execution_count": 96,
     "metadata": {},
     "output_type": "execute_result"
    }
   ],
   "source": [
    "l5"
   ]
  },
  {
   "cell_type": "code",
   "execution_count": 100,
   "id": "2d78cfc8-d17c-486a-a2b7-79f117200b74",
   "metadata": {},
   "outputs": [],
   "source": [
    "numeric = []\n",
    "string = []\n",
    "for i in l5:\n",
    "    if(type(i)==str):\n",
    "        string.append(i)\n",
    "    else:\n",
    "        numeric.append(i)"
   ]
  },
  {
   "cell_type": "code",
   "execution_count": 104,
   "id": "d2ec25ca-a678-4684-b86e-f630a80db4e5",
   "metadata": {},
   "outputs": [
    {
     "data": {
      "text/plain": [
       "['vanshraj', 'kudesia', 'abc']"
      ]
     },
     "execution_count": 104,
     "metadata": {},
     "output_type": "execute_result"
    }
   ],
   "source": [
    "string"
   ]
  },
  {
   "cell_type": "code",
   "execution_count": 105,
   "id": "51c969ad-1405-49cc-babc-6863c6fb5aa3",
   "metadata": {},
   "outputs": [
    {
     "data": {
      "text/plain": [
       "[1, 2, 3, 4, 4, 324, 34.456]"
      ]
     },
     "execution_count": 105,
     "metadata": {},
     "output_type": "execute_result"
    }
   ],
   "source": [
    "numeric"
   ]
  },
  {
   "cell_type": "code",
   "execution_count": null,
   "id": "ba4906b2-6a82-47ef-960d-95291e73b110",
   "metadata": {},
   "outputs": [],
   "source": []
  },
  {
   "cell_type": "code",
   "execution_count": null,
   "id": "ce4b7877-65b0-4367-be98-2f752619146c",
   "metadata": {},
   "outputs": [],
   "source": []
  },
  {
   "cell_type": "code",
   "execution_count": null,
   "id": "15ef7bf3-fd7a-4f6c-bde5-d124ef924a0a",
   "metadata": {},
   "outputs": [],
   "source": []
  },
  {
   "cell_type": "code",
   "execution_count": null,
   "id": "9aa692e5-682d-4a24-a812-ddff002f75c3",
   "metadata": {},
   "outputs": [],
   "source": []
  }
 ],
 "metadata": {
  "kernelspec": {
   "display_name": "Python 3 (ipykernel)",
   "language": "python",
   "name": "python3"
  },
  "language_info": {
   "codemirror_mode": {
    "name": "ipython",
    "version": 3
   },
   "file_extension": ".py",
   "mimetype": "text/x-python",
   "name": "python",
   "nbconvert_exporter": "python",
   "pygments_lexer": "ipython3",
   "version": "3.10.6"
  }
 },
 "nbformat": 4,
 "nbformat_minor": 5
}
