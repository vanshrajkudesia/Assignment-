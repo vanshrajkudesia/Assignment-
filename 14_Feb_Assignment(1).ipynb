{
 "cells": [
  {
   "cell_type": "markdown",
   "id": "5266f93b",
   "metadata": {},
   "source": [
    "Q1. what is multithreading in python? hy is it used? Name the module used to handle threads in python"
   ]
  },
  {
   "cell_type": "code",
   "execution_count": 1,
   "id": "8d071fc7",
   "metadata": {},
   "outputs": [
    {
     "name": "stdout",
     "output_type": "stream",
     "text": [
      "\n",
      "To Understand multithreading we first need to understand \n",
      "what is thread means\n",
      "\n",
      "so,Program under execution is known as Process\n",
      "Process has 3 basic components:\n",
      "1.executable program\n",
      "2.associated data (variables,buffers,some time reffered as critical section)\n",
      "3.State of process (wait,suspend execution,ready queue)\n",
      "\n",
      "which is a part of Operating System.\n",
      "\n",
      "Each process has its process control block (PCB):contains process id (pid),and information related to process\n",
      "similarly,\n",
      "\n",
      "\n",
      "A Thread is a sequence of instruction within a program that can be executed \n",
      "independently of other code and have TCB(Thread Control Block) as process have PCB\n",
      "\n",
      "\n",
      "\n",
      "Each Thread have its own register set and local variables which is not shared between other threads \n",
      "\n",
      "And Every Thread share global variable and program(code), files\n",
      "which all threads can access\n",
      "\n",
      "Now it is clear that what is thread \n",
      "so We are now able to understand what is multithreading\n",
      "\n",
      "Therefore Multithreading can be defined as abiltity of a process\n",
      "to execute multiple threads concurrently.\n",
      "\n",
      "\n",
      "\n",
      "When Threads are executing in single-core cpu, switching takes place between threads\n",
      "(known as context switching). and there data is stored in TCB(it store thread id,data of register of that thread)\n",
      "and this context switching takes place frequently so threads are appear to be executing parallelly(but actually concurrently)\n",
      "\n",
      "It is used to achieve multitasking.\n",
      "\n",
      "Name of the module used to handle threads in python:\n",
      "threading\n",
      "\n",
      "\n",
      "\n"
     ]
    }
   ],
   "source": [
    "print(\"\"\"\n",
    "To Understand multithreading we first need to understand \n",
    "what is thread means\n",
    "\n",
    "so,Program under execution is known as Process\n",
    "Process has 3 basic components:\n",
    "1.executable program\n",
    "2.associated data (variables,buffers,some time reffered as critical section)\n",
    "3.State of process (wait,suspend execution,ready queue)\n",
    "\n",
    "which is a part of Operating System.\n",
    "\n",
    "Each process has its process control block (PCB):contains process id (pid),and information related to process\n",
    "similarly,\n",
    "\n",
    "\n",
    "A Thread is a sequence of instruction within a program that can be executed \n",
    "independently of other code and have TCB(Thread Control Block) as process have PCB\n",
    "\n",
    "\n",
    "\n",
    "Each Thread have its own register set and local variables which is not shared between other threads \n",
    "\n",
    "And Every Thread share global variable and program(code), files\n",
    "which all threads can access\n",
    "\n",
    "Now it is clear that what is thread \n",
    "so We are now able to understand what is multithreading\n",
    "\n",
    "Therefore Multithreading can be defined as abiltity of a process\n",
    "to execute multiple threads concurrently.\n",
    "\n",
    "\n",
    "\n",
    "When Threads are executing in single-core cpu, switching takes place between threads\n",
    "(known as context switching). and there data is stored in TCB(it store thread id,data of register of that thread)\n",
    "and this context switching takes place frequently so threads are appear to be executing parallelly(but actually concurrently)\n",
    "\n",
    "It is used to achieve multitasking.\n",
    "\n",
    "Name of the module used to handle threads in python:\n",
    "threading\n",
    "\n",
    "\n",
    "\"\"\")"
   ]
  },
  {
   "cell_type": "markdown",
   "id": "1111f151",
   "metadata": {},
   "source": [
    "Q2. why threading module used? rite the use of the following functions\n",
    "1. activeCount()\n",
    "2. currentThread()\n",
    "3. enumerate()"
   ]
  },
  {
   "cell_type": "code",
   "execution_count": 13,
   "id": "be992a79",
   "metadata": {},
   "outputs": [
    {
     "name": "stdout",
     "output_type": "stream",
     "text": [
      "\n",
      "1. active_count()\n",
      "it is an inbuilt method of threading module in python used to return number of thread objects thar are active at any instant.\n",
      "\n",
      "For Example:\n",
      "pls check example in next cell\n",
      "\n",
      "\n"
     ]
    }
   ],
   "source": [
    "print(\"\"\"\n",
    "1. active_count()\n",
    "it is an inbuilt method of threading module in python used to return number of thread objects thar are active at any instant.\n",
    "\n",
    "For Example:\n",
    "pls check example in next cell\n",
    "\n",
    "\"\"\")"
   ]
  },
  {
   "cell_type": "code",
   "execution_count": 25,
   "id": "fd29ac67",
   "metadata": {},
   "outputs": [
    {
     "name": "stdout",
     "output_type": "stream",
     "text": [
      "Active Threads start: 6\n",
      "Active Threads: 7\n",
      "Active Threads: 7\n",
      "Active Threads: 7\n"
     ]
    }
   ],
   "source": [
    "import threading\n",
    "\n",
    "def Doremon():\n",
    "    print(\"Active Threads:\",threading.active_count())\n",
    "\n",
    "def Schinchan():\n",
    "    print(\"Active Threads:\",threading.active_count())\n",
    "    \n",
    "def Tarzan():\n",
    "    print(\"Active Threads:\",threading.active_count())\n",
    "    \n",
    "thread1 = threading.Thread(target=Doremon)\n",
    "thread2 = threading.Thread(target=Schinchan)\n",
    "thread3 = threading.Thread(target=Tarzan)\n",
    "\n",
    "\n",
    "print(\"Active Threads start:\",threading.active_count())\n",
    "thread1.start()\n",
    "thread2.start()\n",
    "thread3.start()\n",
    "\n"
   ]
  },
  {
   "cell_type": "code",
   "execution_count": null,
   "id": "cc7e4efc",
   "metadata": {},
   "outputs": [],
   "source": []
  },
  {
   "cell_type": "code",
   "execution_count": 6,
   "id": "2613f6f8",
   "metadata": {},
   "outputs": [
    {
     "name": "stdout",
     "output_type": "stream",
     "text": [
      "\n",
      "current_thread() is an inbuilt method of the threading module in python\n",
      "it return current thread instance or object\n",
      "\n"
     ]
    }
   ],
   "source": [
    "print(\"\"\"\n",
    "current_thread() is an inbuilt method of the threading module in python\n",
    "it return current thread instance or object\n",
    "\"\"\")"
   ]
  },
  {
   "cell_type": "code",
   "execution_count": 9,
   "id": "f66fb0f2",
   "metadata": {},
   "outputs": [
    {
     "name": "stdout",
     "output_type": "stream",
     "text": [
      "Current threads(active): <_MainThread(MainThread, started 3364)>\n",
      "Active current Thread: <Thread(Thread-25, started 1696)>\n",
      "Active current Thread: <Thread(Thread-26, started 160)>\n",
      "Active current Thread: <Thread(Thread-27, started 3380)>\n"
     ]
    }
   ],
   "source": [
    "import threading\n",
    "\n",
    "def test1():\n",
    "    print(\"Active current Thread:\",threading.current_thread())\n",
    "    \n",
    "  \n",
    "def test2():\n",
    "    print(\"Active current Thread:\",threading.current_thread())\n",
    "    \n",
    "    \n",
    "def test3():\n",
    "    print(\"Active current Thread:\",threading.current_thread())\n",
    "    \n",
    "\n",
    "thread1 = threading.Thread(target=test1)\n",
    "thread2 = threading.Thread(target=test1)\n",
    "thread3 = threading.Thread(target=test1)\n",
    "    \n",
    "    \n",
    "print(\"Current threads(active):\",threading.current_thread())\n",
    "\n",
    "thread1.start()\n",
    "thread2.start()\n",
    "thread3.start()\n"
   ]
  },
  {
   "cell_type": "code",
   "execution_count": null,
   "id": "0cc179a3",
   "metadata": {},
   "outputs": [],
   "source": []
  },
  {
   "cell_type": "code",
   "execution_count": 27,
   "id": "008df983",
   "metadata": {},
   "outputs": [
    {
     "name": "stdout",
     "output_type": "stream",
     "text": [
      "\n",
      "enumerate is an inbuilt method and it return list of all \n",
      "the Thread class objects which are currenlty active.\n",
      "and don't count threads that have terminated or which have not start\n",
      "yet\n",
      "\n"
     ]
    }
   ],
   "source": [
    "print(\"\"\"\n",
    "enumerate is an inbuilt method and it return list of all \n",
    "the Thread class objects which are currenlty active.\n",
    "and don't count threads that have terminated or which have not start\n",
    "yet\n",
    "\"\"\")"
   ]
  },
  {
   "cell_type": "code",
   "execution_count": null,
   "id": "b5be6060",
   "metadata": {},
   "outputs": [],
   "source": []
  },
  {
   "cell_type": "code",
   "execution_count": 44,
   "id": "5035c227",
   "metadata": {},
   "outputs": [
    {
     "name": "stdout",
     "output_type": "stream",
     "text": [
      "\n",
      "Threads active:\n",
      " [<_MainThread(MainThread, started 3364)>, <Thread(IOPub, started daemon 19836)>, <Heartbeat(Heartbeat, started daemon 21708)>, <ControlThread(Control, started daemon 21736)>, <HistorySavingThread(IPythonHistorySavingThread, started 2176)>, <ParentPollerWindows(Thread-4, started daemon 21216)>]\n",
      "\n",
      "Hello,Its:\n",
      "2023-02-16 20:59:06.453456\n",
      "\n",
      " [<_MainThread(MainThread, started 3364)>, <Thread(IOPub, started daemon 19836)>, <Heartbeat(Heartbeat, started daemon 21708)>, <ControlThread(Control, started daemon 21736)>, <HistorySavingThread(IPythonHistorySavingThread, started 2176)>, <ParentPollerWindows(Thread-4, started daemon 21216)>, <Thread(Thread-112, started 11216)>]\n",
      "Hii,its:\n",
      "2023-02-16 20:59:06.454827\n",
      "\n",
      " [<_MainThread(MainThread, started 3364)>, <Thread(IOPub, started daemon 19836)>, <Heartbeat(Heartbeat, started daemon 21708)>, <ControlThread(Control, started daemon 21736)>, <HistorySavingThread(IPythonHistorySavingThread, started 2176)>, <ParentPollerWindows(Thread-4, started daemon 21216)>, <Thread(Thread-112, started 11216)>, <Thread(Thread-113, started 10288)>, <Thread(Thread-114, initial)>]\n",
      "Hi,its:\n",
      "2023-02-16 20:59:06.455836\n",
      "\n",
      " [<_MainThread(MainThread, started 3364)>, <Thread(IOPub, started daemon 19836)>, <Heartbeat(Heartbeat, started daemon 21708)>, <ControlThread(Control, started daemon 21736)>, <HistorySavingThread(IPythonHistorySavingThread, started 2176)>, <ParentPollerWindows(Thread-4, started daemon 21216)>, <Thread(Thread-112, started 11216)>, <Thread(Thread-113, started 10288)>, <Thread(Thread-114, started 16604)>]\n"
     ]
    }
   ],
   "source": [
    "import threading\n",
    "import datetime\n",
    "import time\n",
    "\n",
    "def th1():\n",
    "    print(\"\\nHello,Its:\")\n",
    "    print(datetime.datetime.now())\n",
    "    print(\"\\n\",threading.enumerate())\n",
    "    time.sleep(2)\n",
    "    \n",
    "def th2():\n",
    "    print(\"Hii,its:\")\n",
    "    print(datetime.datetime.now())\n",
    "    print(\"\\n\",threading.enumerate())\n",
    "    time.sleep(2)\n",
    "    \n",
    "def th3():\n",
    "    print(\"Hi,its:\")\n",
    "    print(datetime.datetime.now())\n",
    "    print(\"\\n\",threading.enumerate())\n",
    "    time.sleep(2)\n",
    "    \n",
    "the1 =threading.Thread(target=th1)\n",
    "the2 =threading.Thread(target=th2)\n",
    "the3 =threading.Thread(target=th3)\n",
    "\n",
    "print(\"\\nThreads active:\\n\",threading.enumerate())\n",
    "\n",
    "the1.start()\n",
    "\n",
    "the2.start()\n",
    "\n",
    "the3.start()"
   ]
  },
  {
   "cell_type": "code",
   "execution_count": null,
   "id": "fc5dcff8",
   "metadata": {},
   "outputs": [],
   "source": []
  },
  {
   "cell_type": "code",
   "execution_count": null,
   "id": "eed31f5e",
   "metadata": {},
   "outputs": [],
   "source": []
  },
  {
   "cell_type": "markdown",
   "id": "06a732b0",
   "metadata": {},
   "source": [
    "Q3. Explain the following functions\n",
    "\n",
    "\n",
    "1.run\n",
    "\n",
    "2.start\n",
    "\n",
    "3.join\n",
    "\n",
    "4.isAlive"
   ]
  },
  {
   "cell_type": "code",
   "execution_count": 3,
   "id": "ed3ac2ee",
   "metadata": {},
   "outputs": [
    {
     "name": "stdout",
     "output_type": "stream",
     "text": [
      "1\n"
     ]
    }
   ],
   "source": [
    "print(1)"
   ]
  },
  {
   "cell_type": "code",
   "execution_count": 14,
   "id": "5c82f29e",
   "metadata": {},
   "outputs": [
    {
     "name": "stdout",
     "output_type": "stream",
     "text": [
      "1 2\n",
      "<Thread(Thread-14, initial)>\n"
     ]
    }
   ],
   "source": [
    "import threading\n",
    "\n",
    "def j(a,b):\n",
    "    print(a,b)\n",
    "    \n",
    "t = threading.Thread(target=j,args=[1,2])\n",
    "t.run()\n",
    "print(t)\n",
    "\n",
    "#This method representing the thread's activity"
   ]
  },
  {
   "cell_type": "code",
   "execution_count": null,
   "id": "3052125c",
   "metadata": {},
   "outputs": [],
   "source": []
  },
  {
   "cell_type": "code",
   "execution_count": 30,
   "id": "9646bb7b",
   "metadata": {},
   "outputs": [
    {
     "name": "stdout",
     "output_type": "stream",
     "text": [
      "2\n"
     ]
    }
   ],
   "source": [
    "print(2)"
   ]
  },
  {
   "cell_type": "code",
   "execution_count": null,
   "id": "6878d761",
   "metadata": {},
   "outputs": [],
   "source": [
    "print(\"\"\"\n",
    "We can then start executing the thread by calling the start() function.\n",
    "\n",
    "The start() function will return immediately and the operating system will execute the function in a separate thread as soon as it is able.\n",
    "\"\"\")"
   ]
  },
  {
   "cell_type": "code",
   "execution_count": null,
   "id": "bfd2f20d",
   "metadata": {},
   "outputs": [
    {
     "name": "stdout",
     "output_type": "stream",
     "text": [
      "\n",
      "Welcome to Python 3.9's help utility!\n",
      "\n",
      "If this is your first time using Python, you should definitely check out\n",
      "the tutorial on the Internet at https://docs.python.org/3.9/tutorial/.\n",
      "\n",
      "Enter the name of any module, keyword, or topic to get help on writing\n",
      "Python programs and using Python modules.  To quit this help utility and\n",
      "return to the interpreter, just type \"quit\".\n",
      "\n",
      "To get a list of available modules, keywords, symbols, or topics, type\n",
      "\"modules\", \"keywords\", \"symbols\", or \"topics\".  Each module also comes\n",
      "with a one-line summary of what it does; to list the modules whose name\n",
      "or summary contain a given string such as \"spam\", type \"modules spam\".\n",
      "\n"
     ]
    }
   ],
   "source": [
    "import threading\n",
    "tk = threading.Thread(target=help)\n",
    "tk.start()\n",
    "tk.join()"
   ]
  },
  {
   "cell_type": "code",
   "execution_count": null,
   "id": "e4a41650",
   "metadata": {},
   "outputs": [],
   "source": []
  },
  {
   "cell_type": "code",
   "execution_count": null,
   "id": "01c2cdd0",
   "metadata": {},
   "outputs": [],
   "source": []
  },
  {
   "cell_type": "code",
   "execution_count": 2,
   "id": "d49559f2",
   "metadata": {},
   "outputs": [
    {
     "name": "stdout",
     "output_type": "stream",
     "text": [
      "3\n"
     ]
    }
   ],
   "source": [
    "print(3)"
   ]
  },
  {
   "cell_type": "code",
   "execution_count": 45,
   "id": "bd0134d2",
   "metadata": {},
   "outputs": [
    {
     "name": "stdout",
     "output_type": "stream",
     "text": [
      "\n",
      "Hence the join() method indicates wait till the thread terminates. We can also specify a timeout value to the join() method\n",
      "\n",
      "\n"
     ]
    }
   ],
   "source": [
    "print(\"\"\"\n",
    "Hence the join() method indicates wait till the thread terminates. We can also specify a timeout value to the join() method\n",
    "\n",
    "\"\"\")"
   ]
  },
  {
   "cell_type": "code",
   "execution_count": 1,
   "id": "b35c96fe",
   "metadata": {},
   "outputs": [
    {
     "name": "stdout",
     "output_type": "stream",
     "text": [
      "0\n",
      "1\n",
      "2\n",
      "3\n",
      "4\n"
     ]
    }
   ],
   "source": [
    "import threading\n",
    "import time\n",
    "def loop():\n",
    "    for i in range(100):\n",
    "        print(i)\n",
    "        time.sleep(1)\n",
    "        \n",
    "th1 = threading.Thread(target=loop)\n",
    "\n",
    "th1.start()\n",
    "th1.join(5)"
   ]
  },
  {
   "cell_type": "code",
   "execution_count": 1,
   "id": "9af02e5a",
   "metadata": {},
   "outputs": [],
   "source": [
    "#In above cell join wait for 5sec because timeout value is specified"
   ]
  },
  {
   "cell_type": "code",
   "execution_count": null,
   "id": "30d30b83",
   "metadata": {},
   "outputs": [],
   "source": []
  },
  {
   "cell_type": "code",
   "execution_count": 15,
   "id": "4edf1b8d",
   "metadata": {},
   "outputs": [
    {
     "name": "stdout",
     "output_type": "stream",
     "text": [
      "4\n"
     ]
    }
   ],
   "source": [
    "print(4)"
   ]
  },
  {
   "cell_type": "code",
   "execution_count": 16,
   "id": "a238fba5",
   "metadata": {},
   "outputs": [
    {
     "name": "stdout",
     "output_type": "stream",
     "text": [
      "\n",
      "is_alive() method checks whether a thread is alive and returns a boolean value based \n",
      "on the thread status. \n",
      "\n"
     ]
    }
   ],
   "source": [
    "print(\"\"\"\n",
    "is_alive() method checks whether a thread is alive and returns a boolean value based \n",
    "on the thread status. \n",
    "\"\"\")"
   ]
  },
  {
   "cell_type": "code",
   "execution_count": 29,
   "id": "ed2d0198",
   "metadata": {},
   "outputs": [
    {
     "name": "stdout",
     "output_type": "stream",
     "text": [
      "is  <Thread(Thread-27, initial)> alive: False\n",
      "I am print just after thread startsis \n",
      " <Thread(Thread-27, stopped 16728)> alive: True\n",
      "Closing Thread\n",
      "is  <Thread(Thread-27, stopped 16728)> alive: False\n"
     ]
    }
   ],
   "source": [
    "import threading\n",
    "\n",
    "th = threading.Thread(target=print,args=[\"I am print just after thread starts\"])\n",
    "print(\"is \",th,\"alive:\",th.is_alive())\n",
    "th.start()\n",
    "print(\"is \",th,\"alive:\",th.is_alive())\n",
    "th.join()\n",
    "print(\"Closing Thread\")\n",
    "print(\"is \",th,\"alive:\",th.is_alive())"
   ]
  },
  {
   "cell_type": "code",
   "execution_count": null,
   "id": "d40f9961",
   "metadata": {},
   "outputs": [],
   "source": []
  },
  {
   "cell_type": "code",
   "execution_count": null,
   "id": "2fee44ad",
   "metadata": {},
   "outputs": [],
   "source": []
  },
  {
   "cell_type": "markdown",
   "id": "c22c2586",
   "metadata": {},
   "source": [
    "Q4. rite a python program to create two threads. Thread one must print the list of squares and thread\n",
    "two must print the list of cubes"
   ]
  },
  {
   "cell_type": "code",
   "execution_count": 10,
   "id": "bedac9b5",
   "metadata": {},
   "outputs": [
    {
     "name": "stdout",
     "output_type": "stream",
     "text": [
      "Enter how many square and cube root you want:10\n",
      "square  0 : 0\n",
      "square  1 : 1\n",
      "square  2 : 4\n",
      "square  3 : 9\n",
      "square  4 : 16\n",
      "square  5 : 25\n",
      "square  6 : 36\n",
      "square  7 : 49\n",
      "square  8 : 64\n",
      "square  9 : 81\n",
      "cube 0 : 0.0\n",
      "cube 1 : 1.0\n",
      "cube 2 : 1.2599210498948732\n",
      "cube 3 : 1.4422495703074083\n",
      "cube 4 : 1.5874010519681994\n",
      "cube 5 : 1.7099759466766968\n",
      "cube 6 : 1.8171205928321397\n",
      "cube 7 : 1.912931182772389\n",
      "cube 8 : 2.0\n",
      "cube 9 : 2.080083823051904\n"
     ]
    }
   ],
   "source": [
    "import threading\n",
    "sq = lambda x:print(\"square \",x,\":\",x**2)\n",
    "cr = lambda x:print(\"cube\",x,\":\",x**(1/3))\n",
    "\n",
    "n = int(input(\"Enter how many square and cube root you want:\"))\n",
    "th1 = [threading.Thread(target=sq,args=[i]) for i in range(n)]\n",
    "th2 = [threading.Thread(target=cr,args=[i]) for i in range(n)]\n",
    "\n",
    "for i in th1:\n",
    "    i.start()\n",
    "    i.join()\n",
    "\n",
    "for j in th2:\n",
    "    j.start()\n",
    "    j.join()\n"
   ]
  },
  {
   "cell_type": "code",
   "execution_count": null,
   "id": "8881986e",
   "metadata": {},
   "outputs": [],
   "source": []
  },
  {
   "cell_type": "markdown",
   "id": "bfce6189",
   "metadata": {},
   "source": [
    "Q5. State advantages and disadvantages of multithreading\n"
   ]
  },
  {
   "cell_type": "code",
   "execution_count": 12,
   "id": "3b510e22",
   "metadata": {},
   "outputs": [
    {
     "name": "stdout",
     "output_type": "stream",
     "text": [
      "\n",
      "Advantages:\n",
      "1.Better use of CPU resource\n",
      "2.Enhanced perfomance\n",
      "3.Better use of cache storage by tilization of resources\n",
      "5.simultaneous and parallelized occurrence of tasks(appears)\n",
      "\n"
     ]
    }
   ],
   "source": [
    "print(\"\"\"\n",
    "Advantages:\n",
    "1.Better use of CPU resource\n",
    "2.Enhanced perfomance\n",
    "3.Better use of cache storage by tilization of resources\n",
    "5.simultaneous and parallelized occurrence of tasks(appears)\n",
    "\"\"\")"
   ]
  },
  {
   "cell_type": "code",
   "execution_count": null,
   "id": "48a48f3d",
   "metadata": {},
   "outputs": [],
   "source": []
  },
  {
   "cell_type": "code",
   "execution_count": 13,
   "id": "00a1ce2d",
   "metadata": {},
   "outputs": [
    {
     "name": "stdout",
     "output_type": "stream",
     "text": [
      "\n",
      "Disadvantages:\n",
      "1.complex debugging\n",
      "2.overhead switchind\n",
      "3.increased potential for deadlock occurrence\n",
      "4.increase difficulty level in writing a program\n",
      "5.some time unpredictable results\n",
      "\n"
     ]
    }
   ],
   "source": [
    "print(\"\"\"\n",
    "Disadvantages:\n",
    "1.complex debugging\n",
    "2.overhead switchind\n",
    "3.increased potential for deadlock occurrence\n",
    "4.increase difficulty level in writing a program\n",
    "5.some time unpredictable results\n",
    "\"\"\")"
   ]
  },
  {
   "cell_type": "code",
   "execution_count": null,
   "id": "2f04045a",
   "metadata": {},
   "outputs": [],
   "source": []
  },
  {
   "cell_type": "code",
   "execution_count": null,
   "id": "2fbb6623",
   "metadata": {},
   "outputs": [],
   "source": []
  },
  {
   "cell_type": "markdown",
   "id": "c35efd92",
   "metadata": {},
   "source": [
    "Q6. Explain deadlocks and race conditions."
   ]
  },
  {
   "cell_type": "code",
   "execution_count": 21,
   "id": "feb1d972",
   "metadata": {},
   "outputs": [
    {
     "name": "stdout",
     "output_type": "stream",
     "text": [
      "\n",
      "These topic are the part of Operating System(OS)\n",
      "\n",
      "deadlocks is condition where the process is waiting for event \n",
      "which will never happend.\n",
      "\n",
      "In terms of threads when two or more threads hold locks on different resources,each waiting\n",
      "indefinitely for the other to release its lock. so one can use the resourse and after it other can \n",
      "use the resource.\n",
      "\n",
      "For Example:\n",
      "In real life,At crossing of roads every vehicle(thread) want road(resource)\n",
      "but it is occupied by other vehicle(thread) and cause a traffic jam(deadlock)\n",
      "and the solution is that any vehicle(thread) leave the road(resource) so one vehicle(thread) can\n",
      "use the road(resource) and after it other vehicle(thread) use the road(resouce) .\n",
      "\n"
     ]
    }
   ],
   "source": [
    "print(\"\"\"\n",
    "These topic are the part of Operating System(OS)\n",
    "\n",
    "deadlocks is condition where the process is waiting for event \n",
    "which will never happend.\n",
    "\n",
    "In terms of threads when two or more threads hold locks on different resources,each waiting\n",
    "indefinitely for the other to release its lock. so one can use the resourse and after it other can \n",
    "use the resource.\n",
    "\n",
    "For Example:\n",
    "In real life,At crossing of roads every vehicle(thread) want road(resource)\n",
    "but it is occupied by other vehicle(thread) and cause a traffic jam(deadlock)\n",
    "and the solution is that any vehicle(thread) leave the road(resource) so one vehicle(thread) can\n",
    "use the road(resource) and after it other vehicle(thread) use the road(resouce) .\n",
    "\"\"\")"
   ]
  },
  {
   "cell_type": "code",
   "execution_count": 2,
   "id": "04b4da90",
   "metadata": {},
   "outputs": [
    {
     "name": "stdout",
     "output_type": "stream",
     "text": [
      "\n",
      "Race Condition: Two (or more) threads alter the state of a shared resource concurrently, leaving it in an unpredictable state.\n",
      "\n",
      "\n",
      "\n"
     ]
    }
   ],
   "source": [
    "print(\"\"\"\n",
    "Race Condition: Two (or more) threads alter the state of a shared resource concurrently, leaving it in an unpredictable state.\n",
    "\n",
    "\n",
    "\"\"\")"
   ]
  },
  {
   "cell_type": "code",
   "execution_count": null,
   "id": "56173941",
   "metadata": {},
   "outputs": [],
   "source": []
  },
  {
   "cell_type": "code",
   "execution_count": null,
   "id": "81201e58",
   "metadata": {},
   "outputs": [],
   "source": []
  },
  {
   "cell_type": "code",
   "execution_count": null,
   "id": "764dee31",
   "metadata": {},
   "outputs": [],
   "source": []
  },
  {
   "cell_type": "code",
   "execution_count": null,
   "id": "47b52010",
   "metadata": {},
   "outputs": [],
   "source": []
  }
 ],
 "metadata": {
  "kernelspec": {
   "display_name": "Python 3 (ipykernel)",
   "language": "python",
   "name": "python3"
  },
  "language_info": {
   "codemirror_mode": {
    "name": "ipython",
    "version": 3
   },
   "file_extension": ".py",
   "mimetype": "text/x-python",
   "name": "python",
   "nbconvert_exporter": "python",
   "pygments_lexer": "ipython3",
   "version": "3.9.12"
  }
 },
 "nbformat": 4,
 "nbformat_minor": 5
}
