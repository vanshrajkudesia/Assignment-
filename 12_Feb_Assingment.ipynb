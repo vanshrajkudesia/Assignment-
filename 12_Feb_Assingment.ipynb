{
 "cells": [
  {
   "cell_type": "markdown",
   "id": "444f93c6",
   "metadata": {},
   "source": [
    "Q1. What is an Exception in pthon? Write the difference between Exceptions and syntax errors.\n"
   ]
  },
  {
   "cell_type": "code",
   "execution_count": 1,
   "id": "a8c7ea23",
   "metadata": {},
   "outputs": [
    {
     "name": "stdout",
     "output_type": "stream",
     "text": [
      "\n",
      "Exception\n",
      "Exception are also known as logical error\n",
      "An exception is an event, which occurs during the execution of a\n",
      "program that disrupts the normal flow of the program's instructions.\n",
      "and sometime program stops working completely.\n",
      "\n",
      "For Example:\n",
      "\n",
      "\n"
     ]
    }
   ],
   "source": [
    "print(\"\"\"\n",
    "Exception\n",
    "Exception are also known as logical error\n",
    "An exception is an event, which occurs during the execution of a\n",
    "program that disrupts the normal flow of the program's instructions.\n",
    "and sometime program stops working completely.\n",
    "\n",
    "For Example:The Error Below are genrated intentionally to implement Exceptions\n",
    "1.ZeroDivisionError (Trying to divide 1 by 0)\n",
    "2.ModuleNotFoundError (Trying To import module which do not exists)\n",
    "3.NameError (Trying to print the variable which does not exists in program)\n",
    "\n",
    "\n",
    "\"\"\")"
   ]
  },
  {
   "cell_type": "code",
   "execution_count": 2,
   "id": "b68ce2c3",
   "metadata": {},
   "outputs": [
    {
     "ename": "ZeroDivisionError",
     "evalue": "division by zero",
     "output_type": "error",
     "traceback": [
      "\u001b[1;31m---------------------------------------------------------------------------\u001b[0m",
      "\u001b[1;31mZeroDivisionError\u001b[0m                         Traceback (most recent call last)",
      "Input \u001b[1;32mIn [2]\u001b[0m, in \u001b[0;36m<cell line: 1>\u001b[1;34m()\u001b[0m\n\u001b[1;32m----> 1\u001b[0m \u001b[38;5;241;43m1\u001b[39;49m\u001b[38;5;241;43m/\u001b[39;49m\u001b[38;5;241;43m0\u001b[39;49m\n",
      "\u001b[1;31mZeroDivisionError\u001b[0m: division by zero"
     ]
    }
   ],
   "source": [
    "1/0"
   ]
  },
  {
   "cell_type": "code",
   "execution_count": 3,
   "id": "f50cb93a",
   "metadata": {},
   "outputs": [
    {
     "ename": "ModuleNotFoundError",
     "evalue": "No module named 'Doremon'",
     "output_type": "error",
     "traceback": [
      "\u001b[1;31m---------------------------------------------------------------------------\u001b[0m",
      "\u001b[1;31mModuleNotFoundError\u001b[0m                       Traceback (most recent call last)",
      "Input \u001b[1;32mIn [3]\u001b[0m, in \u001b[0;36m<cell line: 1>\u001b[1;34m()\u001b[0m\n\u001b[1;32m----> 1\u001b[0m \u001b[38;5;28;01mimport\u001b[39;00m \u001b[38;5;21;01mDoremon\u001b[39;00m\n",
      "\u001b[1;31mModuleNotFoundError\u001b[0m: No module named 'Doremon'"
     ]
    }
   ],
   "source": [
    "import Doremon"
   ]
  },
  {
   "cell_type": "code",
   "execution_count": 4,
   "id": "f074422e",
   "metadata": {},
   "outputs": [
    {
     "ename": "NameError",
     "evalue": "name 'a' is not defined",
     "output_type": "error",
     "traceback": [
      "\u001b[1;31m---------------------------------------------------------------------------\u001b[0m",
      "\u001b[1;31mNameError\u001b[0m                                 Traceback (most recent call last)",
      "Input \u001b[1;32mIn [4]\u001b[0m, in \u001b[0;36m<cell line: 1>\u001b[1;34m()\u001b[0m\n\u001b[1;32m----> 1\u001b[0m \u001b[38;5;28mprint\u001b[39m(\u001b[43ma\u001b[49m)\n",
      "\u001b[1;31mNameError\u001b[0m: name 'a' is not defined"
     ]
    }
   ],
   "source": [
    "print(a)"
   ]
  },
  {
   "cell_type": "code",
   "execution_count": 5,
   "id": "ad0f67f3",
   "metadata": {},
   "outputs": [
    {
     "name": "stdout",
     "output_type": "stream",
     "text": [
      "\n",
      "Syntax are the rules of programming \n",
      "just like English grammar\n",
      "which are the rules to use English language\n",
      "similarly Syntax are rules used to write Programming language.\n",
      "\n",
      "For Example:The Error Below are genrated intentionally to implement Syntax Error\n",
      "\n",
      "\n",
      "\n"
     ]
    }
   ],
   "source": [
    "print(\"\"\"\n",
    "Syntax are the rules of programming \n",
    "just like English grammar\n",
    "which are the rules to use English language\n",
    "similarly Syntax are rules used to write Programming language.\n",
    "\n",
    "For Example:The Error Below are genrated intentionally to implement Syntax Error\n",
    "\n",
    "\n",
    "\"\"\")"
   ]
  },
  {
   "cell_type": "code",
   "execution_count": 7,
   "id": "20220fe4",
   "metadata": {},
   "outputs": [
    {
     "ename": "SyntaxError",
     "evalue": "unexpected EOF while parsing (2690948048.py, line 2)",
     "output_type": "error",
     "traceback": [
      "\u001b[1;36m  Input \u001b[1;32mIn [7]\u001b[1;36m\u001b[0m\n\u001b[1;33m    print(a\u001b[0m\n\u001b[1;37m           ^\u001b[0m\n\u001b[1;31mSyntaxError\u001b[0m\u001b[1;31m:\u001b[0m unexpected EOF while parsing\n"
     ]
    }
   ],
   "source": [
    "a = 10\n",
    "print(a"
   ]
  },
  {
   "cell_type": "code",
   "execution_count": 8,
   "id": "7f3c91a5",
   "metadata": {},
   "outputs": [
    {
     "ename": "IndentationError",
     "evalue": "expected an indented block (3814570068.py, line 2)",
     "output_type": "error",
     "traceback": [
      "\u001b[1;36m  Input \u001b[1;32mIn [8]\u001b[1;36m\u001b[0m\n\u001b[1;33m    print(\"hello\")\u001b[0m\n\u001b[1;37m    ^\u001b[0m\n\u001b[1;31mIndentationError\u001b[0m\u001b[1;31m:\u001b[0m expected an indented block\n"
     ]
    }
   ],
   "source": [
    "if True:\n",
    "print(\"hello\")"
   ]
  },
  {
   "cell_type": "code",
   "execution_count": 9,
   "id": "932f0c77",
   "metadata": {},
   "outputs": [
    {
     "ename": "SyntaxError",
     "evalue": "invalid syntax (547676204.py, line 1)",
     "output_type": "error",
     "traceback": [
      "\u001b[1;36m  Input \u001b[1;32mIn [9]\u001b[1;36m\u001b[0m\n\u001b[1;33m    if True\u001b[0m\n\u001b[1;37m           ^\u001b[0m\n\u001b[1;31mSyntaxError\u001b[0m\u001b[1;31m:\u001b[0m invalid syntax\n"
     ]
    }
   ],
   "source": [
    "if True\n",
    "    print(\"hello\")"
   ]
  },
  {
   "cell_type": "code",
   "execution_count": null,
   "id": "e6cbaea6",
   "metadata": {},
   "outputs": [],
   "source": []
  },
  {
   "cell_type": "markdown",
   "id": "881cb4dd",
   "metadata": {},
   "source": [
    "Q2. What happens when an exception is not handled? Explain wiht an example."
   ]
  },
  {
   "cell_type": "code",
   "execution_count": 10,
   "id": "a3fe3a57",
   "metadata": {},
   "outputs": [
    {
     "name": "stdout",
     "output_type": "stream",
     "text": [
      "\n",
      "If exception is not handled then an error is raised\n",
      "to handle the exception we use try and except\n",
      "\n"
     ]
    }
   ],
   "source": [
    "print(\"\"\"\n",
    "If exception is not handled then an error is raised\n",
    "to handle the exception we use try and except\n",
    "\n",
    "For example: Please check the next cell\n",
    "\"\"\")"
   ]
  },
  {
   "cell_type": "code",
   "execution_count": 13,
   "id": "07e56392",
   "metadata": {},
   "outputs": [
    {
     "ename": "FileNotFoundError",
     "evalue": "[Errno 2] No such file or directory: 'meta.txt'",
     "output_type": "error",
     "traceback": [
      "\u001b[1;31m---------------------------------------------------------------------------\u001b[0m",
      "\u001b[1;31mFileNotFoundError\u001b[0m                         Traceback (most recent call last)",
      "Input \u001b[1;32mIn [13]\u001b[0m, in \u001b[0;36m<cell line: 1>\u001b[1;34m()\u001b[0m\n\u001b[1;32m----> 1\u001b[0m f \u001b[38;5;241m=\u001b[39m \u001b[38;5;28;43mopen\u001b[39;49m\u001b[43m(\u001b[49m\u001b[38;5;124;43m\"\u001b[39;49m\u001b[38;5;124;43mmeta.txt\u001b[39;49m\u001b[38;5;124;43m\"\u001b[39;49m\u001b[43m,\u001b[49m\u001b[38;5;124;43m\"\u001b[39;49m\u001b[38;5;124;43mr\u001b[39;49m\u001b[38;5;124;43m\"\u001b[39;49m\u001b[43m)\u001b[49m\n",
      "\u001b[1;31mFileNotFoundError\u001b[0m: [Errno 2] No such file or directory: 'meta.txt'"
     ]
    }
   ],
   "source": [
    "f = open(\"meta.txt\",\"r\")"
   ]
  },
  {
   "cell_type": "code",
   "execution_count": 22,
   "id": "9b7a5c49",
   "metadata": {},
   "outputs": [
    {
     "name": "stdout",
     "output_type": "stream",
     "text": [
      "It can be handled in the following way:\n"
     ]
    }
   ],
   "source": [
    "print(\"It can be handled in the following way:\")"
   ]
  },
  {
   "cell_type": "code",
   "execution_count": 26,
   "id": "e94a07fc",
   "metadata": {},
   "outputs": [
    {
     "name": "stdout",
     "output_type": "stream",
     "text": [
      "An Error Occured! Something Went Wrong!\n"
     ]
    }
   ],
   "source": [
    "try:\n",
    "    f = open(\"meta.txt\",\"r\")\n",
    "    f.write(\"I am a programmer\")\n",
    "    f.close()\n",
    "except:\n",
    "    print(\"An Error Occured! Something Went Wrong!\")"
   ]
  },
  {
   "cell_type": "code",
   "execution_count": null,
   "id": "3b040f08",
   "metadata": {},
   "outputs": [],
   "source": []
  },
  {
   "cell_type": "markdown",
   "id": "dff8fdb2",
   "metadata": {},
   "source": [
    "Q3. Which Python statements are used to catch and handle exception? Explain with an example."
   ]
  },
  {
   "cell_type": "code",
   "execution_count": 27,
   "id": "59f4db84",
   "metadata": {},
   "outputs": [
    {
     "name": "stdout",
     "output_type": "stream",
     "text": [
      "\n",
      "In Python error is catch by:except\n",
      "and \n",
      "to Handle the exception we use: try\n",
      "\n",
      "For Example:Visit Next Cell\n",
      "\n"
     ]
    }
   ],
   "source": [
    "print(\"\"\"\n",
    "In Python error is catch by:except\n",
    "and \n",
    "to Handle the exception we use: try\n",
    "\n",
    "For Example:Visit Next Cell\n",
    "\"\"\")"
   ]
  },
  {
   "cell_type": "code",
   "execution_count": 28,
   "id": "30433d22",
   "metadata": {},
   "outputs": [
    {
     "name": "stdout",
     "output_type": "stream",
     "text": [
      "Actually It is not Defined in Mathematics and denoted by infinity symbol\n",
      "Name of the error is: division by zero\n"
     ]
    }
   ],
   "source": [
    "try:\n",
    "    print(1/0)\n",
    "except Exception as e:\n",
    "    print(\"Actually It is not Defined in Mathematics and denoted by infinity symbol\")\n",
    "    print(\"Name of the error is:\",e)\n",
    "    "
   ]
  },
  {
   "cell_type": "code",
   "execution_count": null,
   "id": "6e2ea2f7",
   "metadata": {},
   "outputs": [],
   "source": []
  },
  {
   "cell_type": "markdown",
   "id": "7dd4014a",
   "metadata": {},
   "source": [
    "Q4. Explain with an example:\n",
    "    a. try and else\n",
    "    b. finally\n",
    "    c. raise"
   ]
  },
  {
   "cell_type": "code",
   "execution_count": 30,
   "id": "fa2201bd",
   "metadata": {},
   "outputs": [
    {
     "name": "stdout",
     "output_type": "stream",
     "text": [
      "Implementation of a,b,c are give below:\n"
     ]
    }
   ],
   "source": [
    "print(\"Implementation of a,b,c are give below:\")"
   ]
  },
  {
   "cell_type": "code",
   "execution_count": 43,
   "id": "53d32a7c",
   "metadata": {},
   "outputs": [
    {
     "name": "stdout",
     "output_type": "stream",
     "text": [
      "A\n"
     ]
    }
   ],
   "source": [
    "print(\"A\")"
   ]
  },
  {
   "cell_type": "code",
   "execution_count": 44,
   "id": "89138aa5",
   "metadata": {},
   "outputs": [
    {
     "name": "stdout",
     "output_type": "stream",
     "text": [
      "Grow Up Buddy !!!\n"
     ]
    }
   ],
   "source": [
    "try:\n",
    "    import doremon\n",
    "    doremon.gadget(\"anywhere door\")\n",
    "except:\n",
    "    print(\"Grow Up Buddy !!!\")\n",
    "else:\n",
    "    print(\"Try Block Run Successfully\")"
   ]
  },
  {
   "cell_type": "code",
   "execution_count": 45,
   "id": "7684c6cb",
   "metadata": {},
   "outputs": [
    {
     "name": "stdout",
     "output_type": "stream",
     "text": [
      "else block run when try block executed successfully\n"
     ]
    }
   ],
   "source": [
    "print(\"else block run when try block executed successfully\")"
   ]
  },
  {
   "cell_type": "code",
   "execution_count": 46,
   "id": "5437a29d",
   "metadata": {},
   "outputs": [
    {
     "name": "stdout",
     "output_type": "stream",
     "text": [
      "Now the program in which else block executed is given blow\n"
     ]
    }
   ],
   "source": [
    "print(\"Now the program in which else block executed is given blow\")"
   ]
  },
  {
   "cell_type": "code",
   "execution_count": 49,
   "id": "e65017f7",
   "metadata": {},
   "outputs": [
    {
     "name": "stdout",
     "output_type": "stream",
     "text": [
      "4strokeEngine file written Successfully With Text:\n",
      "There are Two type of 4 stroke engiene\n",
      "1.Petrol\n",
      "2.Diseal\n"
     ]
    }
   ],
   "source": [
    "try:\n",
    "    f = open(\"4strokeEngine.txt\",'w')\n",
    "    f.write(\"There are Two type of 4 stroke engiene\\n1.Petrol\\n2.Diseal\")\n",
    "    f.close()\n",
    "except Exception as e:\n",
    "    print(\"Error:\",e)\n",
    "else:\n",
    "    print(\"4strokeEngine file written Successfully With Text:\")\n",
    "    with open(\"4strokeEngine.txt\",'r') as f:\n",
    "        print(f.read())"
   ]
  },
  {
   "cell_type": "code",
   "execution_count": null,
   "id": "d5c59ae7",
   "metadata": {},
   "outputs": [],
   "source": []
  },
  {
   "cell_type": "code",
   "execution_count": 50,
   "id": "ea878835",
   "metadata": {},
   "outputs": [
    {
     "name": "stdout",
     "output_type": "stream",
     "text": [
      "B\n"
     ]
    }
   ],
   "source": [
    "print(\"B\")"
   ]
  },
  {
   "cell_type": "code",
   "execution_count": 51,
   "id": "66a60319",
   "metadata": {},
   "outputs": [
    {
     "name": "stdout",
     "output_type": "stream",
     "text": [
      "finally block executed always either error occured or not\n"
     ]
    }
   ],
   "source": [
    "print(\"finally block executed always either error occured or not\")"
   ]
  },
  {
   "cell_type": "code",
   "execution_count": 52,
   "id": "06c2d3f4",
   "metadata": {},
   "outputs": [
    {
     "name": "stdout",
     "output_type": "stream",
     "text": [
      "File Not Created: [Errno 2] No such file or directory: 'FA.txt'\n",
      "It is all about Finite Automata\n"
     ]
    }
   ],
   "source": [
    "try:\n",
    "    f = open(\"FA.txt\",\"r\")\n",
    "    print(f.read())\n",
    "    f.close()\n",
    "except Exception as e:\n",
    "    print(\"File Not Created:\",e)\n",
    "finally:\n",
    "    f = open(\"FA.txt\",\"w\")\n",
    "    f.write(\"It is all about Finite Automata\")\n",
    "    f.close()\n",
    "    \n",
    "    with open(\"FA.txt\",'r') as f:\n",
    "        print(f.read())"
   ]
  },
  {
   "cell_type": "code",
   "execution_count": 54,
   "id": "75ee322c",
   "metadata": {},
   "outputs": [
    {
     "name": "stdout",
     "output_type": "stream",
     "text": [
      "\n",
      "In above cell FA.txt not exists so finally will executed after\n",
      "execution of except block and create \n",
      "FA.txt and write something in file and close it\n",
      "and read it.\n",
      "\n",
      "\n"
     ]
    }
   ],
   "source": [
    "print(\"\"\"\n",
    "In above cell FA.txt not exists so finally will executed after\n",
    "execution of except block and create \n",
    "FA.txt and write something in file and close it\n",
    "and read it.\n",
    "\n",
    "\"\"\")"
   ]
  },
  {
   "cell_type": "code",
   "execution_count": 53,
   "id": "53687bcf",
   "metadata": {},
   "outputs": [
    {
     "name": "stdout",
     "output_type": "stream",
     "text": [
      "It is all about Finite Automata\n",
      "It is all about Finite Automata\n"
     ]
    }
   ],
   "source": [
    "try:\n",
    "    f = open(\"FA.txt\",\"r\")\n",
    "    print(f.read())\n",
    "    f.close()\n",
    "except Exception as e:\n",
    "    print(\"File Not Created:\",e)\n",
    "finally:\n",
    "    f = open(\"FA.txt\",\"w\")\n",
    "    f.write(\"It is all about Finite Automata\")\n",
    "    f.close()\n",
    "    \n",
    "    with open(\"FA.txt\",'r') as f:\n",
    "        print(f.read())"
   ]
  },
  {
   "cell_type": "code",
   "execution_count": 55,
   "id": "02419330",
   "metadata": {},
   "outputs": [
    {
     "name": "stdout",
     "output_type": "stream",
     "text": [
      "\n",
      "First Try block Executed as FA.txt exist and the finally executed\n",
      "\n"
     ]
    }
   ],
   "source": [
    "print(\"\"\"\n",
    "First Try block Executed as FA.txt exist and the finally executed\n",
    "\"\"\")"
   ]
  },
  {
   "cell_type": "code",
   "execution_count": null,
   "id": "35e73db2",
   "metadata": {},
   "outputs": [],
   "source": []
  },
  {
   "cell_type": "code",
   "execution_count": 56,
   "id": "5ca39938",
   "metadata": {},
   "outputs": [
    {
     "name": "stdout",
     "output_type": "stream",
     "text": [
      "C\n"
     ]
    }
   ],
   "source": [
    "print(\"C\")"
   ]
  },
  {
   "cell_type": "code",
   "execution_count": 41,
   "id": "a34c738b",
   "metadata": {},
   "outputs": [],
   "source": [
    "class ValidateMobile(Exception):\n",
    "    \n",
    "    def __init__(self,msg):\n",
    "        self.msg = msg\n",
    "\n",
    "def isallsame(mobile):              #Check if all digit are same or not ex:(9999999999)\n",
    "    mobile = str(mobile)            #all 10 digit can't be same\n",
    "    c = mobile.count(mobile[0])\n",
    "    if c ==len(mobile):  \n",
    "        return False\n",
    "    else:\n",
    "        return True\n",
    "\n",
    "def istendigit(mobile):\n",
    "    if(len(str(mobile))==10):\n",
    "        return True\n",
    "    else:\n",
    "        return False\n",
    "def startsWith(mobile):\n",
    "    mobile =str(mobile)\n",
    "    l = [6,7,8,9]\n",
    "    for i in l:\n",
    "        if(i==mobile[0]):\n",
    "            return True   #if starts with 6,7,8 or 9 then the number is correct\n",
    "            \n",
    "    return False\n",
    "    \n",
    "def validatemobile(mobile):\n",
    "    if(isallsame(mobile) and istendigit(mobile) and startsWith(mobile)):\n",
    "        raise ValidateMobile(\"Succefully Verified\")\n",
    "    else:\n",
    "        raise ValidateMobile(\"Number May Be Incorret!\")\n",
    "    "
   ]
  },
  {
   "cell_type": "code",
   "execution_count": 42,
   "id": "a7a35018",
   "metadata": {},
   "outputs": [
    {
     "name": "stdout",
     "output_type": "stream",
     "text": [
      "Enter 10 digit mobile number:1234567890\n",
      "Number May Be Incorret!\n"
     ]
    }
   ],
   "source": [
    "try:\n",
    "    a = int(input(\"Enter 10 digit mobile number:\"))\n",
    "    validatemobile(a)\n",
    "except ValidateMobile as v:\n",
    "    print(v)"
   ]
  },
  {
   "cell_type": "code",
   "execution_count": null,
   "id": "b3be3675",
   "metadata": {},
   "outputs": [],
   "source": []
  },
  {
   "cell_type": "markdown",
   "id": "114c92ef",
   "metadata": {},
   "source": [
    "Q5. Whar are Custom Exception in python? Why do we need Custom Exceptions?Explain with an example."
   ]
  },
  {
   "cell_type": "code",
   "execution_count": 57,
   "id": "92fa343d",
   "metadata": {},
   "outputs": [
    {
     "name": "stdout",
     "output_type": "stream",
     "text": [
      "\n",
      "Custom Exception are User-defined Exception when an exception is not\n",
      "fall in base class 'Exception' we create our own exception class.\n",
      "\n",
      "Custom Exceptions are used when we need Exception Which is not in base class\n",
      "'Exception' and Generate Exception Where we want\n",
      "\n",
      "For example: ValidAge if we take a input from user and if user is eligible to vote\n",
      "then our try block is executed and if not then raise error\n",
      "\n"
     ]
    }
   ],
   "source": [
    "print(\"\"\"\n",
    "Custom Exception are User-defined Exception when an exception is not\n",
    "fall in base class 'Exception' we create our own exception class.\n",
    "\n",
    "Custom Exceptions are used when we need Exception Which is not in base class\n",
    "'Exception' and Generate Exception Where we want\n",
    "\n",
    "For example: ValidAge if we take a input from user and if user is eligible to vote\n",
    "then our try block is executed and if not then raise error\n",
    "\"\"\")"
   ]
  },
  {
   "cell_type": "code",
   "execution_count": 58,
   "id": "f2cc716d",
   "metadata": {},
   "outputs": [
    {
     "name": "stdout",
     "output_type": "stream",
     "text": [
      "Q.5 and Q.6 example are same\n"
     ]
    }
   ],
   "source": [
    "print(\"Q.5 and Q.6 example are same\")"
   ]
  },
  {
   "cell_type": "markdown",
   "id": "d1875755",
   "metadata": {},
   "source": [
    "Q.6 Create a custom exception class. Use this class to handle an exception"
   ]
  },
  {
   "cell_type": "code",
   "execution_count": 65,
   "id": "cfb77fce",
   "metadata": {},
   "outputs": [],
   "source": [
    "class ValidAge(Exception):\n",
    "    def __init__(self,msg):\n",
    "        self.msg = msg\n",
    "        \n",
    "def validage(age):\n",
    "    if(age>=18):\n",
    "        raise ValidAge(\"You Can Vote\")\n",
    "    else:\n",
    "        raise ValidAge(\"You Can't Vote\")"
   ]
  },
  {
   "cell_type": "code",
   "execution_count": 66,
   "id": "6178052b",
   "metadata": {},
   "outputs": [
    {
     "name": "stdout",
     "output_type": "stream",
     "text": [
      "Enter Your Age:18\n",
      "You Can Vote\n"
     ]
    }
   ],
   "source": [
    "try:\n",
    "    age = int(input(\"Enter Your Age:\"))\n",
    "    validage(age)\n",
    "except ValidAge as e:\n",
    "    print(e)"
   ]
  },
  {
   "cell_type": "code",
   "execution_count": null,
   "id": "79efbfd6",
   "metadata": {},
   "outputs": [],
   "source": []
  },
  {
   "cell_type": "code",
   "execution_count": null,
   "id": "1b638c83",
   "metadata": {},
   "outputs": [],
   "source": []
  }
 ],
 "metadata": {
  "kernelspec": {
   "display_name": "Python 3 (ipykernel)",
   "language": "python",
   "name": "python3"
  },
  "language_info": {
   "codemirror_mode": {
    "name": "ipython",
    "version": 3
   },
   "file_extension": ".py",
   "mimetype": "text/x-python",
   "name": "python",
   "nbconvert_exporter": "python",
   "pygments_lexer": "ipython3",
   "version": "3.9.12"
  }
 },
 "nbformat": 4,
 "nbformat_minor": 5
}
