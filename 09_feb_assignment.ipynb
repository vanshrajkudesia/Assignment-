{
 "cells": [
  {
   "cell_type": "markdown",
   "id": "2d6e5f74",
   "metadata": {},
   "source": [
    "Q1, Create a vehicle class with an init method having instance variables as name_of_vehicle, max_speed\n",
    "and average_of_vehicle."
   ]
  },
  {
   "cell_type": "code",
   "execution_count": 1,
   "id": "a1fff8ae",
   "metadata": {},
   "outputs": [],
   "source": [
    "class Vehicle:\n",
    "    \n",
    "    def __init__(self,name_of_vehicle,max_speed,average_of_vehicle):\n",
    "        self.name_of_vehicle = name_of_vehicle\n",
    "        self.max_speed = max_speed\n",
    "        self.average_of_vehicle = average_of_vehicle\n",
    "        \n",
    "        "
   ]
  },
  {
   "cell_type": "markdown",
   "id": "1d79cdff",
   "metadata": {},
   "source": [
    "Q2. Create a child class car from the vehicle class created in Que 1, which will inherit the vehicle class.\n",
    "Create a method named seating_capacity which takes capacity as an argument and returns the name of\n",
    "the vehicle and its seating capacity."
   ]
  },
  {
   "cell_type": "code",
   "execution_count": 11,
   "id": "3adb3253",
   "metadata": {},
   "outputs": [],
   "source": [
    "class Car(Vehicle):\n",
    "    \n",
    "    def seating_capacity(self,capacity):\n",
    "        return self.name_of_vehicle,capacity"
   ]
  },
  {
   "cell_type": "code",
   "execution_count": 12,
   "id": "fee7d8ff",
   "metadata": {},
   "outputs": [],
   "source": [
    "xyz = Car(\"Range Rover\",320,5)"
   ]
  },
  {
   "cell_type": "code",
   "execution_count": 13,
   "id": "681324eb",
   "metadata": {},
   "outputs": [
    {
     "data": {
      "text/plain": [
       "('Range Rover', 5)"
      ]
     },
     "execution_count": 13,
     "metadata": {},
     "output_type": "execute_result"
    }
   ],
   "source": [
    "xyz.seating_capacity(5)"
   ]
  },
  {
   "cell_type": "code",
   "execution_count": null,
   "id": "3d7f84e6",
   "metadata": {},
   "outputs": [],
   "source": []
  },
  {
   "cell_type": "markdown",
   "id": "258694e1",
   "metadata": {},
   "source": [
    "Q3. What is multiple inheritance? Write a python code to demonstrate multiple inheritance."
   ]
  },
  {
   "cell_type": "code",
   "execution_count": 79,
   "id": "d5c961d6",
   "metadata": {},
   "outputs": [
    {
     "name": "stdout",
     "output_type": "stream",
     "text": [
      "\n",
      "The class which inherit more than one class are known as mutliple inheritance\n",
      "The class formed by multiple inheritance consist of propert of both classes\n",
      "and \n",
      "The class derived from more than one class\n",
      "\n",
      "For Example: We Inherit property from our mother and father both \n",
      "which is an real life example of multiple inheritance\n",
      "\n"
     ]
    }
   ],
   "source": [
    "print(\"\"\"\n",
    "The class which inherit more than one class are known as mutliple inheritance\n",
    "The class formed by multiple inheritance consist of propert of both classes\n",
    "and \n",
    "The class derived from more than one class\n",
    "\n",
    "For Example: We Inherit property from our mother and father both \n",
    "which is an real life example of multiple inheritance\n",
    "\"\"\")"
   ]
  },
  {
   "cell_type": "code",
   "execution_count": 23,
   "id": "ab734e22",
   "metadata": {},
   "outputs": [],
   "source": [
    "class Mother():\n",
    "\n",
    "    def intelligent(self):\n",
    "        print(\"Intelligent\")\n",
    "        \n",
    "\n",
    "        \n",
    "class Father():\n",
    "\n",
    "    def smart(self):\n",
    "        print(\"Smart\")\n",
    "\n",
    "        \n",
    "class Child(Mother,Father):\n",
    "    pass\n",
    "        \n",
    "    \n"
   ]
  },
  {
   "cell_type": "code",
   "execution_count": 24,
   "id": "8eedac17",
   "metadata": {},
   "outputs": [],
   "source": [
    "abc = Child()"
   ]
  },
  {
   "cell_type": "code",
   "execution_count": 25,
   "id": "7bc5b6b9",
   "metadata": {},
   "outputs": [
    {
     "name": "stdout",
     "output_type": "stream",
     "text": [
      "Intelligent\n"
     ]
    }
   ],
   "source": [
    "abc.intelligent()"
   ]
  },
  {
   "cell_type": "code",
   "execution_count": 26,
   "id": "2d99f2be",
   "metadata": {},
   "outputs": [
    {
     "name": "stdout",
     "output_type": "stream",
     "text": [
      "Smart\n"
     ]
    }
   ],
   "source": [
    "abc.smart()"
   ]
  },
  {
   "cell_type": "code",
   "execution_count": null,
   "id": "ed92c743",
   "metadata": {},
   "outputs": [],
   "source": []
  },
  {
   "cell_type": "markdown",
   "id": "1f6f2103",
   "metadata": {},
   "source": [
    "Q4. What are getter and setter in python? Create a class and create a getter and a setter method in this\n",
    "class."
   ]
  },
  {
   "cell_type": "code",
   "execution_count": 27,
   "id": "4483493c",
   "metadata": {},
   "outputs": [
    {
     "name": "stdout",
     "output_type": "stream",
     "text": [
      "\n",
      "Getter:Getters are the methods that are used in Object-Oriented Programming to access a class's private attributes.\n",
      "\n",
      "\n",
      "Setter:The setter is a method that is used to set the property's value.\n",
      "It is very useful in object-oriented programming to set the value of private attributes in a class.\n",
      "\n",
      "getter and setter are mainly used in encapsulation\n",
      "\n"
     ]
    }
   ],
   "source": [
    "print(\"\"\"\n",
    "Getter:Getters are the methods that are used in Object-Oriented Programming to access a class's private attributes.\n",
    "\n",
    "\n",
    "Setter:The setter is a method that is used to set the property's value.\n",
    "It is very useful in object-oriented programming to set the value of private attributes in a class.\n",
    "\n",
    "getter and setter are mainly used in encapsulation\n",
    "\"\"\")"
   ]
  },
  {
   "cell_type": "code",
   "execution_count": 73,
   "id": "29472e3a",
   "metadata": {},
   "outputs": [],
   "source": [
    "\n",
    "class OfficialDetials():\n",
    "    \n",
    "    def __init__(self,name,age,adhar_number,mobile):\n",
    "        self.name = name\n",
    "        self.__age = age\n",
    "        self.__adhar_number = adhar_number\n",
    "        self.mobile = mobile\n",
    "        \n",
    "    @property\n",
    "    def details(self):\n",
    "        return (self.name),str(self.mobile),(self.__age)\n",
    "    \n",
    "    @property\n",
    "    def confidential_details(self):    #Always Remains Same Once Assigned To a Person\n",
    "        return self.__adhar_number\n",
    "    \n",
    "    @details.setter\n",
    "    def details_update(self,detail):\n",
    "        self.name = detail[0]\n",
    "        age = detail[2]\n",
    "        if(age>0 and age<180):\n",
    "            self.__age = age\n",
    "        else:\n",
    "            return False\n",
    "        \n",
    "        self.mobile = detail[1]\n",
    "        \n",
    "        \n",
    "        \n",
    "\n",
    "\n"
   ]
  },
  {
   "cell_type": "code",
   "execution_count": 74,
   "id": "5221c8b7",
   "metadata": {},
   "outputs": [],
   "source": [
    "official_details = OfficialDetials(\"abc\",20,123456789,9998887776)"
   ]
  },
  {
   "cell_type": "code",
   "execution_count": 75,
   "id": "64b50433",
   "metadata": {},
   "outputs": [
    {
     "data": {
      "text/plain": [
       "('abc', '9998887776', 20)"
      ]
     },
     "execution_count": 75,
     "metadata": {},
     "output_type": "execute_result"
    }
   ],
   "source": [
    "official_details.details"
   ]
  },
  {
   "cell_type": "code",
   "execution_count": 76,
   "id": "50cfd460",
   "metadata": {},
   "outputs": [
    {
     "data": {
      "text/plain": [
       "123456789"
      ]
     },
     "execution_count": 76,
     "metadata": {},
     "output_type": "execute_result"
    }
   ],
   "source": [
    "official_details.confidential_details"
   ]
  },
  {
   "cell_type": "code",
   "execution_count": 77,
   "id": "6cdff8ae",
   "metadata": {},
   "outputs": [],
   "source": [
    "official_details.details_update=[\"xyz\",5554443332,21]"
   ]
  },
  {
   "cell_type": "code",
   "execution_count": 78,
   "id": "b3e8dcd8",
   "metadata": {},
   "outputs": [
    {
     "data": {
      "text/plain": [
       "('xyz', '5554443332', 21)"
      ]
     },
     "execution_count": 78,
     "metadata": {},
     "output_type": "execute_result"
    }
   ],
   "source": [
    "official_details.details"
   ]
  },
  {
   "cell_type": "code",
   "execution_count": null,
   "id": "d01501ed",
   "metadata": {},
   "outputs": [],
   "source": []
  },
  {
   "cell_type": "markdown",
   "id": "78e27305",
   "metadata": {},
   "source": [
    "Q5.What is method overriding in python? Write a python code to demonstrate method overriding."
   ]
  },
  {
   "cell_type": "code",
   "execution_count": 80,
   "id": "cb38c227",
   "metadata": {
    "scrolled": true
   },
   "outputs": [
    {
     "name": "stdout",
     "output_type": "stream",
     "text": [
      "\n",
      "Overriding in OOP is a way in which a child class can implement\n",
      "the method which is already implemented in Parend class\n",
      "\n",
      "For Example :please Check Next Cell\n",
      "\n"
     ]
    }
   ],
   "source": [
    "print(\"\"\"\n",
    "Overriding in OOP is a way in which a child class can implement\n",
    "the method which is already implemented in Parend class\n",
    "\n",
    "For Example :please Check Next Cell\n",
    "\"\"\")"
   ]
  },
  {
   "cell_type": "code",
   "execution_count": 89,
   "id": "55a9602f",
   "metadata": {},
   "outputs": [],
   "source": [
    "class Planet:\n",
    "    \n",
    "    def __init__(self,name,color,rotational_velocity,mass,diameter,path,no_of_moon,temp):\n",
    "        self.name = name\n",
    "        self.color = color\n",
    "        self.rotational_velcity=rotational_velocity\n",
    "        self.mass =mass\n",
    "        self.diameter = diameter\n",
    "        self.path =path\n",
    "        self.no_of_moon = no_of_moon\n",
    "        self.temp =temp\n",
    "        \n",
    "        \n",
    "    def gravitation(self,g):\n",
    "        return g\n",
    "    \n",
    "class Earth(Planet):\n",
    "    \n",
    "    def gravitation(self):\n",
    "        return \"9.8 m/s\"\n",
    "        "
   ]
  },
  {
   "cell_type": "code",
   "execution_count": 90,
   "id": "012afe15",
   "metadata": {},
   "outputs": [
    {
     "data": {
      "text/plain": [
       "'9.8 m/s'"
      ]
     },
     "execution_count": 90,
     "metadata": {},
     "output_type": "execute_result"
    }
   ],
   "source": [
    "earth = Earth(\"earth\",\"blue\",\"30km/s\",\"5.972 × 10^24 kg\",\"12,742 km\",\"elliptical\",1,\"15°C\",)\n",
    "earth.gravitation()"
   ]
  },
  {
   "cell_type": "code",
   "execution_count": 91,
   "id": "bd0850f3",
   "metadata": {},
   "outputs": [
    {
     "name": "stdout",
     "output_type": "stream",
     "text": [
      "\n",
      "In the Above Example The gravitation method is override\n",
      "Planet gravitation method is Override by Earth gravitation method\n",
      "\n"
     ]
    }
   ],
   "source": [
    "print(\"\"\"\n",
    "In the Above Example The gravitation method is override\n",
    "Planet gravitation method is Override by Earth gravitation method\n",
    "\"\"\")"
   ]
  },
  {
   "cell_type": "code",
   "execution_count": null,
   "id": "3d9cfcfd",
   "metadata": {},
   "outputs": [],
   "source": []
  }
 ],
 "metadata": {
  "kernelspec": {
   "display_name": "Python 3 (ipykernel)",
   "language": "python",
   "name": "python3"
  },
  "language_info": {
   "codemirror_mode": {
    "name": "ipython",
    "version": 3
   },
   "file_extension": ".py",
   "mimetype": "text/x-python",
   "name": "python",
   "nbconvert_exporter": "python",
   "pygments_lexer": "ipython3",
   "version": "3.9.12"
  }
 },
 "nbformat": 4,
 "nbformat_minor": 5
}
