{
 "cells": [
  {
   "cell_type": "markdown",
   "id": "d6207948",
   "metadata": {},
   "source": [
    "Q1. What is an API? Give an example, where an API is used in real life."
   ]
  },
  {
   "cell_type": "code",
   "execution_count": 1,
   "id": "f6c54d59",
   "metadata": {},
   "outputs": [
    {
     "name": "stdout",
     "output_type": "stream",
     "text": [
      "\n",
      "Application Programming Interface (API) is a software interface that allows two applications to interact with each other without any user intervention. \n",
      "API is a collection of software functions and procedures. In simple terms, API means a software code that can be accessed or executed. \n",
      "API is defined as a code that helps two different software’s to communicate and exchange data with each other.\n",
      "\n",
      "\n",
      "Real life Example:\n",
      "In gmail when we sign in it first verify that user exist or not\n",
      "by requesting database.\n",
      "\n",
      "when we make trasaction from any payment app(Gpay,Paytm,BhimUPI,Apple Pay etc.)\n",
      "It first verify user exists,\n",
      "then check bank account exixts,\n",
      "then check sufficient balance(Amount),\n",
      "then check the limit of trasaction,\n",
      "then make the trasaction\n",
      "\n"
     ]
    }
   ],
   "source": [
    "print(\"\"\"\n",
    "Application Programming Interface (API) is a software interface that allows two applications to interact with each other without any user intervention. \n",
    "API is a collection of software functions and procedures. In simple terms, API means a software code that can be accessed or executed. \n",
    "API is defined as a code that helps two different software’s to communicate and exchange data with each other.\n",
    "\n",
    "\n",
    "Real life Example:\n",
    "In gmail when we sign in it first verify that user exist or not\n",
    "by requesting database.\n",
    "\n",
    "when we make trasaction from any payment app(Gpay,Paytm,BhimUPI,Apple Pay etc.)\n",
    "It first verify user exists,\n",
    "then check bank account exixts,\n",
    "then check sufficient balance(Amount),\n",
    "then check the limit of trasaction,\n",
    "then make the trasaction\n",
    "\"\"\")"
   ]
  },
  {
   "cell_type": "markdown",
   "id": "8058ec0c",
   "metadata": {},
   "source": [
    "Q2. Give advantages and disadvantages of using API."
   ]
  },
  {
   "cell_type": "code",
   "execution_count": 3,
   "id": "6b2df02a",
   "metadata": {},
   "outputs": [
    {
     "name": "stdout",
     "output_type": "stream",
     "text": [
      "\n",
      "API advantages:\n",
      "\n",
      "    Can provide a way to access functionality or data that is not otherwise readily available or accessible.\n",
      "    Can provide a way to automate tasks.\n",
      "    Can help to improve communication between disparate systems.\n",
      "\n",
      "API disadvantages:\n",
      "\n",
      "    Can be difficult to use and understand.\n",
      "    Cannot be guaranteed to be stable or backwards compatible.\n",
      "    May require a certain level of technical expertise in order to use them effectively.\n",
      "    \n",
      "\n",
      "\n"
     ]
    }
   ],
   "source": [
    "print(\"\"\"\n",
    "API advantages:\n",
    "\n",
    "    Can provide a way to access functionality or data that is not otherwise readily available or accessible.\n",
    "    Can provide a way to automate tasks.\n",
    "    Can help to improve communication between disparate systems.\n",
    "\n",
    "API disadvantages:\n",
    "\n",
    "    Can be difficult to use and understand.\n",
    "    Cannot be guaranteed to be stable or backwards compatible.\n",
    "    May require a certain level of technical expertise in order to use them effectively.\n",
    "    \n",
    "\n",
    "\"\"\")"
   ]
  },
  {
   "cell_type": "code",
   "execution_count": null,
   "id": "03007d0f",
   "metadata": {},
   "outputs": [],
   "source": []
  },
  {
   "cell_type": "markdown",
   "id": "e11a09fc",
   "metadata": {},
   "source": [
    "Q3. What is a Web API? Differentiate between API and Web API."
   ]
  },
  {
   "cell_type": "code",
   "execution_count": 4,
   "id": "484bfa35",
   "metadata": {},
   "outputs": [
    {
     "name": "stdout",
     "output_type": "stream",
     "text": [
      "\n",
      "Web API is an extensible framework for building HTTP based \n",
      "services that can be accessed in different applications \n",
      "on different platforms such as web, windows, mobile etc.\n",
      "\n",
      "\n",
      "An application programming interface (or API for short) is a \n",
      "software component that\n",
      "enables two otherwise unrelated applications to communicate with each other. \n",
      "\n",
      "\n",
      "Differentiate between API and Web API\n",
      "\n",
      "\n",
      "API is the in which two or more porgram communicate between\n",
      "each other it can using web or without web\n",
      "\n",
      "here web refers to network of computer\n",
      "so network can be internet of local network\n",
      "\n",
      "when device of local network communicate using TCP/IP\n",
      "they are come under API\n",
      "\n",
      "and \n",
      "when Device communicate over Internet using HTTP they are\n",
      "come under Web API\n",
      "\n"
     ]
    }
   ],
   "source": [
    "print(\"\"\"\n",
    "Web API is an extensible framework for building HTTP based \n",
    "services that can be accessed in different applications \n",
    "on different platforms such as web, windows, mobile etc.\n",
    "\n",
    "\n",
    "An application programming interface (or API for short) is a \n",
    "software component that\n",
    "enables two otherwise unrelated applications to communicate with each other. \n",
    "\n",
    "\n",
    "Differentiate between API and Web API\n",
    "\n",
    "\n",
    "API is the in which two or more porgram communicate between\n",
    "each other it can using web or without web\n",
    "\n",
    "here web refers to network of computer\n",
    "so network can be internet of local network\n",
    "\n",
    "when device of local network communicate using TCP/IP\n",
    "they are come under API\n",
    "\n",
    "and \n",
    "when Device communicate over Internet using HTTP they are\n",
    "come under Web API\n",
    "\"\"\")"
   ]
  },
  {
   "cell_type": "code",
   "execution_count": null,
   "id": "a1a5bef8",
   "metadata": {},
   "outputs": [],
   "source": []
  },
  {
   "cell_type": "markdown",
   "id": "1a65222b",
   "metadata": {},
   "source": [
    "Q4. Explain REST and SOAP Architecture. Mention shortcomings of SOAP."
   ]
  },
  {
   "cell_type": "code",
   "execution_count": 6,
   "id": "b35adf1d",
   "metadata": {},
   "outputs": [
    {
     "name": "stdout",
     "output_type": "stream",
     "text": [
      "\n",
      "REST:\n",
      "REST was designed specifically for working with components such as media components, files, or even objects on a particular hardware device.\n",
      "Any web service that is defined on the principles of REST can be called a RestFul web service. \n",
      "A Restful service would use the normal HTTP verbs of GET, POST, PUT and DELETE for working with the required components.\n",
      "REST stands for Representational State Transfer.\n",
      "\n",
      "\n",
      "SOAP:\n",
      "SOAP is a protocol which was designed before REST and came into the picture. \n",
      "The main idea behind designing SOAP was to ensure that programs built on \n",
      "different platforms and programming languages could exchange data in an easy manner.\n",
      "SOAP stands for Simple Object Access Protocol.\n",
      "\n",
      "\n",
      "shortcomings of SOAP:\n",
      "\n",
      "As SOAP can only transfer messages as XML files, \n",
      "your SOAP API will be less performant, as XML is a verbose format compared to JSON. \n",
      "API calls made to your server will need more bandwidth and \n",
      "it will take more time to process the request and transfer the response back to the client.\n",
      "\n",
      "\n",
      "In SOAP, the client-server communication depends on WSDL (Web Service Description Language) contracts, which implies tight coupling. \n",
      "Therefore, it’s not recommended for loosely coupled applications as you can’t opt out of using a contract between the client and the server.\n",
      "\n",
      "SOAP also has a higher learning curve, is little bit harder \n",
      "\n",
      "\n",
      "\n"
     ]
    }
   ],
   "source": [
    "print(\"\"\"\n",
    "REST:\n",
    "REST was designed specifically for working with components such as media components, files, or even objects on a particular hardware device.\n",
    "Any web service that is defined on the principles of REST can be called a RestFul web service. \n",
    "A Restful service would use the normal HTTP verbs of GET, POST, PUT and DELETE for working with the required components.\n",
    "REST stands for Representational State Transfer.\n",
    "\n",
    "\n",
    "SOAP:\n",
    "SOAP is a protocol which was designed before REST and came into the picture. \n",
    "The main idea behind designing SOAP was to ensure that programs built on \n",
    "different platforms and programming languages could exchange data in an easy manner.\n",
    "SOAP stands for Simple Object Access Protocol.\n",
    "\n",
    "\n",
    "shortcomings of SOAP:\n",
    "\n",
    "As SOAP can only transfer messages as XML files, \n",
    "your SOAP API will be less performant, as XML is a verbose format compared to JSON. \n",
    "API calls made to your server will need more bandwidth and \n",
    "it will take more time to process the request and transfer the response back to the client.\n",
    "\n",
    "\n",
    "In SOAP, the client-server communication depends on WSDL (Web Service Description Language) contracts, which implies tight coupling. \n",
    "Therefore, it’s not recommended for loosely coupled applications as you can’t opt out of using a contract between the client and the server.\n",
    "\n",
    "SOAP also has a higher learning curve, is little bit harder \n",
    "\n",
    "\n",
    "\"\"\")"
   ]
  },
  {
   "cell_type": "code",
   "execution_count": null,
   "id": "59d10166",
   "metadata": {},
   "outputs": [],
   "source": []
  },
  {
   "cell_type": "markdown",
   "id": "096f8239",
   "metadata": {},
   "source": [
    "Q5. Differentiate between REST and SOAP."
   ]
  },
  {
   "cell_type": "code",
   "execution_count": null,
   "id": "c46a45cc",
   "metadata": {},
   "outputs": [],
   "source": [
    "print(\"\"\"\n",
    "REST:\n",
    "\n",
    "Representational State Transfer\n",
    "Architectural style with loose guidelines and recommendations.\n",
    "Data-driven (data available as resources, e.g. “user”).\n",
    "Stateless (no server-side sessions).\n",
    "API calls can be cached.\n",
    "Supports HTTPS and SSL.\n",
    "Plain text, HTML, XML, JSON, YAML, and others.\n",
    "Scalability, better performance, browser-friendliness, flexibility.\n",
    "Less security, not suitable for distributed environments.\n",
    "\n",
    "SOAP:\n",
    "Simple Object Access Protocol\n",
    "Standardized protocol with pre-defined rules to follow.\n",
    "Function-driven (data available as services, e.g.: “getUser”)\n",
    "Stateless by default, but it’s possible to make a SOAP API stateful.\n",
    "API calls cannot be cached.\n",
    "WS-Security with SSL support. Built-in ACID compliance.\n",
    "Only XML.\n",
    "High security, standardized, extensibility.\n",
    "Poorer performance, more complexity, less flexibility.\n",
    "\n",
    "\"\"\")"
   ]
  }
 ],
 "metadata": {
  "kernelspec": {
   "display_name": "Python 3 (ipykernel)",
   "language": "python",
   "name": "python3"
  },
  "language_info": {
   "codemirror_mode": {
    "name": "ipython",
    "version": 3
   },
   "file_extension": ".py",
   "mimetype": "text/x-python",
   "name": "python",
   "nbconvert_exporter": "python",
   "pygments_lexer": "ipython3",
   "version": "3.9.12"
  }
 },
 "nbformat": 4,
 "nbformat_minor": 5
}
